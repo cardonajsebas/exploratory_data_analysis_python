{
 "cells": [
  {
   "cell_type": "markdown",
   "id": "8167bd36",
   "metadata": {
    "papermill": {
     "duration": 0.013967,
     "end_time": "2023-04-17T16:06:06.552041",
     "exception": false,
     "start_time": "2023-04-17T16:06:06.538074",
     "status": "completed"
    },
    "tags": []
   },
   "source": [
    "   # **Exploratory data analysis with python: e-commerce project**\n"
   ]
  },
  {
   "cell_type": "markdown",
   "id": "5178d5cc",
   "metadata": {
    "papermill": {
     "duration": 0.012381,
     "end_time": "2023-04-17T16:06:06.577673",
     "exception": false,
     "start_time": "2023-04-17T16:06:06.565292",
     "status": "completed"
    },
    "tags": []
   },
   "source": [
    "> # **INTRODUCTION**\n",
    "\n",
    "\n",
    "This is a project developed with a dataset created by *[ANAND SINGH](https://www.kaggle.com/datasets/anandku79/globalmarket)* using python libraries for data science like numpy, pandas, and matplotlib and seaborn for visualizations.\n",
    "\n",
    "With this development we are able to get valuable insights and identify shopping trends of the custommers of this company and help guide the company's marketing strategy."
   ]
  },
  {
   "cell_type": "markdown",
   "id": "1238a96f",
   "metadata": {
    "papermill": {
     "duration": 0.010998,
     "end_time": "2023-04-17T16:06:06.599986",
     "exception": false,
     "start_time": "2023-04-17T16:06:06.588988",
     "status": "completed"
    },
    "tags": []
   },
   "source": [
    "> # **TABLE OF CONTENTS**\n",
    "\n",
    "\n",
    "[1.\tPREPARATION](#1)\n",
    "\n",
    "[2.\tPROCESSING](#2)\n",
    "\n",
    "[3.\tANALYSIS](#3)\n"
   ]
  },
  {
   "cell_type": "markdown",
   "id": "bff27395",
   "metadata": {
    "papermill": {
     "duration": 0.014552,
     "end_time": "2023-04-17T16:06:06.627618",
     "exception": false,
     "start_time": "2023-04-17T16:06:06.613066",
     "status": "completed"
    },
    "tags": []
   },
   "source": [
    "<a id=\"1\"></a> <br>\n",
    "> # **1. PREPARATION**\n",
    "\n",
    "**1.1. Data source**\n",
    "\n",
    "For this study, I used a dataset created by *[ANAND SINGH](https://www.kaggle.com/datasets/anandku79/globalmarket)* that tracks the operation of a international e-comerce business. It contains data from 4 years of operation from 2012 to 2015 classified by product categoty, market and geographical location."
   ]
  },
  {
   "cell_type": "code",
   "execution_count": 1,
   "id": "1e4a8b88",
   "metadata": {
    "execution": {
     "iopub.execute_input": "2023-04-17T16:06:06.655220Z",
     "iopub.status.busy": "2023-04-17T16:06:06.654811Z",
     "iopub.status.idle": "2023-04-17T16:06:07.860046Z",
     "shell.execute_reply": "2023-04-17T16:06:07.859005Z"
    },
    "papermill": {
     "duration": 1.223198,
     "end_time": "2023-04-17T16:06:07.863391",
     "exception": false,
     "start_time": "2023-04-17T16:06:06.640193",
     "status": "completed"
    },
    "tags": []
   },
   "outputs": [],
   "source": [
    "# Import libraries\n",
    "\n",
    "import numpy as np\n",
    "import pandas as pd\n",
    "import matplotlib\n",
    "import matplotlib.pyplot as plt\n",
    "import seaborn as sns\n",
    "\n",
    "%matplotlib inline\n",
    "matplotlib.rcParams['figure.figsize'] = (5,5)\n",
    "plt.style.use('ggplot')"
   ]
  },
  {
   "cell_type": "code",
   "execution_count": 2,
   "id": "fe15d806",
   "metadata": {
    "execution": {
     "iopub.execute_input": "2023-04-17T16:06:07.891585Z",
     "iopub.status.busy": "2023-04-17T16:06:07.891077Z",
     "iopub.status.idle": "2023-04-17T16:06:08.438058Z",
     "shell.execute_reply": "2023-04-17T16:06:08.436553Z"
    },
    "papermill": {
     "duration": 0.565014,
     "end_time": "2023-04-17T16:06:08.441827",
     "exception": false,
     "start_time": "2023-04-17T16:06:07.876813",
     "status": "completed"
    },
    "tags": []
   },
   "outputs": [],
   "source": [
    "# Import dataset - Read csv\n",
    "\n",
    "df = pd.read_csv(\"/kaggle/input/global-superstore-2016csv/global_superstore_2016.csv\",\n",
    "                 sep=',', header=0, encoding=('latin-1'))"
   ]
  },
  {
   "cell_type": "markdown",
   "id": "96bffe16",
   "metadata": {
    "papermill": {
     "duration": 0.012066,
     "end_time": "2023-04-17T16:06:08.467655",
     "exception": false,
     "start_time": "2023-04-17T16:06:08.455589",
     "status": "completed"
    },
    "tags": []
   },
   "source": [
    "**1.2. Dataset preview**\n",
    "\n",
    "After previewing the dataset, we can see it contains a dataframe with 51290 rows and 24 columns, which I will not use all. There are some columns that need improvement in it formatting, such as Order Date column as object, it has to be formatted as datetime, and some others numeric columnsm like Sales."
   ]
  },
  {
   "cell_type": "code",
   "execution_count": 3,
   "id": "0642c6f4",
   "metadata": {
    "execution": {
     "iopub.execute_input": "2023-04-17T16:06:08.496219Z",
     "iopub.status.busy": "2023-04-17T16:06:08.495798Z",
     "iopub.status.idle": "2023-04-17T16:06:08.538085Z",
     "shell.execute_reply": "2023-04-17T16:06:08.536846Z"
    },
    "papermill": {
     "duration": 0.061985,
     "end_time": "2023-04-17T16:06:08.542151",
     "exception": false,
     "start_time": "2023-04-17T16:06:08.480166",
     "status": "completed"
    },
    "tags": []
   },
   "outputs": [
    {
     "data": {
      "text/html": [
       "<div>\n",
       "<style scoped>\n",
       "    .dataframe tbody tr th:only-of-type {\n",
       "        vertical-align: middle;\n",
       "    }\n",
       "\n",
       "    .dataframe tbody tr th {\n",
       "        vertical-align: top;\n",
       "    }\n",
       "\n",
       "    .dataframe thead th {\n",
       "        text-align: right;\n",
       "    }\n",
       "</style>\n",
       "<table border=\"1\" class=\"dataframe\">\n",
       "  <thead>\n",
       "    <tr style=\"text-align: right;\">\n",
       "      <th></th>\n",
       "      <th>Row ID</th>\n",
       "      <th>Order ID</th>\n",
       "      <th>Order Date</th>\n",
       "      <th>Ship Date</th>\n",
       "      <th>Ship Mode</th>\n",
       "      <th>Customer ID</th>\n",
       "      <th>Customer Name</th>\n",
       "      <th>Segment</th>\n",
       "      <th>Postal Code</th>\n",
       "      <th>City</th>\n",
       "      <th>State</th>\n",
       "      <th>Country</th>\n",
       "      <th>Region</th>\n",
       "      <th>Market</th>\n",
       "      <th>Product ID</th>\n",
       "      <th>Category</th>\n",
       "      <th>Sub-Category</th>\n",
       "      <th>Product Name</th>\n",
       "      <th>Sales</th>\n",
       "      <th>Quantity</th>\n",
       "      <th>Discount</th>\n",
       "      <th>Profit</th>\n",
       "      <th>Shipping Cost</th>\n",
       "      <th>Order Priority</th>\n",
       "    </tr>\n",
       "  </thead>\n",
       "  <tbody>\n",
       "    <tr>\n",
       "      <th>0</th>\n",
       "      <td>40098</td>\n",
       "      <td>CA-2014-AB10015140-41954</td>\n",
       "      <td>11/11/2014</td>\n",
       "      <td>13-11-2014</td>\n",
       "      <td>First Class</td>\n",
       "      <td>AB-100151402</td>\n",
       "      <td>Aaron Bergman</td>\n",
       "      <td>Consumer</td>\n",
       "      <td>73120.0</td>\n",
       "      <td>Oklahoma City</td>\n",
       "      <td>Oklahoma</td>\n",
       "      <td>United States</td>\n",
       "      <td>Central US</td>\n",
       "      <td>USCA</td>\n",
       "      <td>TEC-PH-5816</td>\n",
       "      <td>Technology</td>\n",
       "      <td>Phones</td>\n",
       "      <td>Samsung Convoy 3</td>\n",
       "      <td>$221.98</td>\n",
       "      <td>2</td>\n",
       "      <td>0.0</td>\n",
       "      <td>$62.15</td>\n",
       "      <td>40.77</td>\n",
       "      <td>High</td>\n",
       "    </tr>\n",
       "    <tr>\n",
       "      <th>1</th>\n",
       "      <td>26341</td>\n",
       "      <td>IN-2014-JR162107-41675</td>\n",
       "      <td>5/2/2014</td>\n",
       "      <td>7/2/2014</td>\n",
       "      <td>Second Class</td>\n",
       "      <td>JR-162107</td>\n",
       "      <td>Justin Ritter</td>\n",
       "      <td>Corporate</td>\n",
       "      <td>NaN</td>\n",
       "      <td>Wollongong</td>\n",
       "      <td>New South Wales</td>\n",
       "      <td>Australia</td>\n",
       "      <td>Oceania</td>\n",
       "      <td>Asia Pacific</td>\n",
       "      <td>FUR-CH-5379</td>\n",
       "      <td>Furniture</td>\n",
       "      <td>Chairs</td>\n",
       "      <td>Novimex Executive Leather Armchair, Black</td>\n",
       "      <td>$3,709.40</td>\n",
       "      <td>9</td>\n",
       "      <td>0.1</td>\n",
       "      <td>($288.77)</td>\n",
       "      <td>923.63</td>\n",
       "      <td>Critical</td>\n",
       "    </tr>\n",
       "    <tr>\n",
       "      <th>2</th>\n",
       "      <td>25330</td>\n",
       "      <td>IN-2014-CR127307-41929</td>\n",
       "      <td>17-10-2014</td>\n",
       "      <td>18-10-2014</td>\n",
       "      <td>First Class</td>\n",
       "      <td>CR-127307</td>\n",
       "      <td>Craig Reiter</td>\n",
       "      <td>Consumer</td>\n",
       "      <td>NaN</td>\n",
       "      <td>Brisbane</td>\n",
       "      <td>Queensland</td>\n",
       "      <td>Australia</td>\n",
       "      <td>Oceania</td>\n",
       "      <td>Asia Pacific</td>\n",
       "      <td>TEC-PH-5356</td>\n",
       "      <td>Technology</td>\n",
       "      <td>Phones</td>\n",
       "      <td>Nokia Smart Phone, with Caller ID</td>\n",
       "      <td>$5,175.17</td>\n",
       "      <td>9</td>\n",
       "      <td>0.1</td>\n",
       "      <td>$919.97</td>\n",
       "      <td>915.49</td>\n",
       "      <td>Medium</td>\n",
       "    </tr>\n",
       "    <tr>\n",
       "      <th>3</th>\n",
       "      <td>13524</td>\n",
       "      <td>ES-2014-KM1637548-41667</td>\n",
       "      <td>28-01-2014</td>\n",
       "      <td>30-01-2014</td>\n",
       "      <td>First Class</td>\n",
       "      <td>KM-1637548</td>\n",
       "      <td>Katherine Murray</td>\n",
       "      <td>Home Office</td>\n",
       "      <td>NaN</td>\n",
       "      <td>Berlin</td>\n",
       "      <td>Berlin</td>\n",
       "      <td>Germany</td>\n",
       "      <td>Western Europe</td>\n",
       "      <td>Europe</td>\n",
       "      <td>TEC-PH-5267</td>\n",
       "      <td>Technology</td>\n",
       "      <td>Phones</td>\n",
       "      <td>Motorola Smart Phone, Cordless</td>\n",
       "      <td>$2,892.51</td>\n",
       "      <td>5</td>\n",
       "      <td>0.1</td>\n",
       "      <td>($96.54)</td>\n",
       "      <td>910.16</td>\n",
       "      <td>Medium</td>\n",
       "    </tr>\n",
       "    <tr>\n",
       "      <th>4</th>\n",
       "      <td>47221</td>\n",
       "      <td>SG-2014-RH9495111-41948</td>\n",
       "      <td>5/11/2014</td>\n",
       "      <td>6/11/2014</td>\n",
       "      <td>Same Day</td>\n",
       "      <td>RH-9495111</td>\n",
       "      <td>Rick Hansen</td>\n",
       "      <td>Consumer</td>\n",
       "      <td>NaN</td>\n",
       "      <td>Dakar</td>\n",
       "      <td>Dakar</td>\n",
       "      <td>Senegal</td>\n",
       "      <td>Western Africa</td>\n",
       "      <td>Africa</td>\n",
       "      <td>TEC-CO-6011</td>\n",
       "      <td>Technology</td>\n",
       "      <td>Copiers</td>\n",
       "      <td>Sharp Wireless Fax, High-Speed</td>\n",
       "      <td>$2,832.96</td>\n",
       "      <td>8</td>\n",
       "      <td>0.0</td>\n",
       "      <td>$311.52</td>\n",
       "      <td>903.04</td>\n",
       "      <td>Critical</td>\n",
       "    </tr>\n",
       "  </tbody>\n",
       "</table>\n",
       "</div>"
      ],
      "text/plain": [
       "   Row ID                  Order ID  Order Date   Ship Date     Ship Mode  \\\n",
       "0   40098  CA-2014-AB10015140-41954  11/11/2014  13-11-2014   First Class   \n",
       "1   26341    IN-2014-JR162107-41675    5/2/2014    7/2/2014  Second Class   \n",
       "2   25330    IN-2014-CR127307-41929  17-10-2014  18-10-2014   First Class   \n",
       "3   13524   ES-2014-KM1637548-41667  28-01-2014  30-01-2014   First Class   \n",
       "4   47221   SG-2014-RH9495111-41948   5/11/2014   6/11/2014      Same Day   \n",
       "\n",
       "    Customer ID     Customer Name      Segment  Postal Code           City  \\\n",
       "0  AB-100151402     Aaron Bergman     Consumer      73120.0  Oklahoma City   \n",
       "1     JR-162107     Justin Ritter    Corporate          NaN     Wollongong   \n",
       "2     CR-127307      Craig Reiter     Consumer          NaN       Brisbane   \n",
       "3    KM-1637548  Katherine Murray  Home Office          NaN         Berlin   \n",
       "4    RH-9495111       Rick Hansen     Consumer          NaN          Dakar   \n",
       "\n",
       "             State        Country          Region        Market   Product ID  \\\n",
       "0         Oklahoma  United States      Central US          USCA  TEC-PH-5816   \n",
       "1  New South Wales      Australia         Oceania  Asia Pacific  FUR-CH-5379   \n",
       "2       Queensland      Australia         Oceania  Asia Pacific  TEC-PH-5356   \n",
       "3           Berlin        Germany  Western Europe        Europe  TEC-PH-5267   \n",
       "4            Dakar        Senegal  Western Africa        Africa  TEC-CO-6011   \n",
       "\n",
       "     Category Sub-Category                               Product Name  \\\n",
       "0  Technology       Phones                           Samsung Convoy 3   \n",
       "1   Furniture       Chairs  Novimex Executive Leather Armchair, Black   \n",
       "2  Technology       Phones          Nokia Smart Phone, with Caller ID   \n",
       "3  Technology       Phones             Motorola Smart Phone, Cordless   \n",
       "4  Technology      Copiers             Sharp Wireless Fax, High-Speed   \n",
       "\n",
       "        Sales  Quantity  Discount     Profit  Shipping Cost Order Priority  \n",
       "0    $221.98          2       0.0    $62.15           40.77           High  \n",
       "1  $3,709.40          9       0.1  ($288.77)         923.63       Critical  \n",
       "2  $5,175.17          9       0.1   $919.97          915.49         Medium  \n",
       "3  $2,892.51          5       0.1   ($96.54)         910.16         Medium  \n",
       "4  $2,832.96          8       0.0   $311.52          903.04       Critical  "
      ]
     },
     "execution_count": 3,
     "metadata": {},
     "output_type": "execute_result"
    }
   ],
   "source": [
    "pd.set_option('display.max_columns', None)\n",
    "df.head()"
   ]
  },
  {
   "cell_type": "code",
   "execution_count": 4,
   "id": "eb46b99c",
   "metadata": {
    "execution": {
     "iopub.execute_input": "2023-04-17T16:06:08.569583Z",
     "iopub.status.busy": "2023-04-17T16:06:08.569035Z",
     "iopub.status.idle": "2023-04-17T16:06:08.600877Z",
     "shell.execute_reply": "2023-04-17T16:06:08.598982Z"
    },
    "papermill": {
     "duration": 0.048615,
     "end_time": "2023-04-17T16:06:08.604335",
     "exception": false,
     "start_time": "2023-04-17T16:06:08.555720",
     "status": "completed"
    },
    "tags": []
   },
   "outputs": [
    {
     "data": {
      "text/plain": [
       "<bound method DataFrame.info of        Row ID                  Order ID  Order Date   Ship Date  \\\n",
       "0       40098  CA-2014-AB10015140-41954  11/11/2014  13-11-2014   \n",
       "1       26341    IN-2014-JR162107-41675    5/2/2014    7/2/2014   \n",
       "2       25330    IN-2014-CR127307-41929  17-10-2014  18-10-2014   \n",
       "3       13524   ES-2014-KM1637548-41667  28-01-2014  30-01-2014   \n",
       "4       47221   SG-2014-RH9495111-41948   5/11/2014   6/11/2014   \n",
       "...       ...                       ...         ...         ...   \n",
       "51285   29002   IN-2015-KE1642066-42174  19-06-2015  19-06-2015   \n",
       "51286   34337  US-2014-ZD21925140-41765    6/5/2014   10/5/2014   \n",
       "51287   31315  CA-2012-ZD21925140-41147  26-08-2012  31-08-2012   \n",
       "51288    9596   MX-2013-RB1979518-41322  17-02-2013  21-02-2013   \n",
       "51289    6147   MX-2013-MC1810093-41416  22-05-2013  26-05-2013   \n",
       "\n",
       "            Ship Mode   Customer ID       Customer Name      Segment  \\\n",
       "0         First Class  AB-100151402       Aaron Bergman     Consumer   \n",
       "1        Second Class     JR-162107       Justin Ritter    Corporate   \n",
       "2         First Class     CR-127307        Craig Reiter     Consumer   \n",
       "3         First Class    KM-1637548    Katherine Murray  Home Office   \n",
       "4            Same Day    RH-9495111         Rick Hansen     Consumer   \n",
       "...               ...           ...                 ...          ...   \n",
       "51285        Same Day    KE-1642066     Katrina Edelman    Corporate   \n",
       "51286  Standard Class  ZD-219251408  Zuschuss Donatelli     Consumer   \n",
       "51287    Second Class  ZD-219251404  Zuschuss Donatelli     Consumer   \n",
       "51288  Standard Class    RB-1979518          Ross Baird  Home Office   \n",
       "51289    Second Class    MC-1810093       Mick Crebagga     Consumer   \n",
       "\n",
       "       Postal Code           City            State        Country  \\\n",
       "0          73120.0  Oklahoma City         Oklahoma  United States   \n",
       "1              NaN     Wollongong  New South Wales      Australia   \n",
       "2              NaN       Brisbane       Queensland      Australia   \n",
       "3              NaN         Berlin           Berlin        Germany   \n",
       "4              NaN          Dakar            Dakar        Senegal   \n",
       "...            ...            ...              ...            ...   \n",
       "51285          NaN           Kure        Hiroshima          Japan   \n",
       "51286      37421.0    Chattanooga        Tennessee  United States   \n",
       "51287      94109.0  San Francisco       California  United States   \n",
       "51288          NaN       Valinhos        SÃ£o Paul         Brazil   \n",
       "51289          NaN       Tipitapa          Managua      Nicaragua   \n",
       "\n",
       "                Region        Market   Product ID         Category  \\\n",
       "0           Central US          USCA  TEC-PH-5816       Technology   \n",
       "1              Oceania  Asia Pacific  FUR-CH-5379        Furniture   \n",
       "2              Oceania  Asia Pacific  TEC-PH-5356       Technology   \n",
       "3       Western Europe        Europe  TEC-PH-5267       Technology   \n",
       "4       Western Africa        Africa  TEC-CO-6011       Technology   \n",
       "...                ...           ...          ...              ...   \n",
       "51285     Eastern Asia  Asia Pacific  OFF-FA-3072  Office Supplies   \n",
       "51286      Southern US          USCA  FUR-FU-4070        Furniture   \n",
       "51287       Western US          USCA  OFF-AR-5321  Office Supplies   \n",
       "51288    South America         LATAM  OFF-BI-2919  Office Supplies   \n",
       "51289  Central America         LATAM  OFF-PA-3990  Office Supplies   \n",
       "\n",
       "      Sub-Category                                   Product Name       Sales  \\\n",
       "0           Phones                               Samsung Convoy 3    $221.98    \n",
       "1           Chairs      Novimex Executive Leather Armchair, Black  $3,709.40    \n",
       "2           Phones              Nokia Smart Phone, with Caller ID  $5,175.17    \n",
       "3           Phones                 Motorola Smart Phone, Cordless  $2,892.51    \n",
       "4          Copiers                 Sharp Wireless Fax, High-Speed  $2,832.96    \n",
       "...            ...                                            ...         ...   \n",
       "51285    Fasteners                  Advantus Thumb Tacks, 12 Pack     $65.10    \n",
       "51286  Furnishings  Eldon Image Series Desk Accessories, Burgundy     $16.72    \n",
       "51287          Art                                     Newell 341      $8.56    \n",
       "51288      Binders                        Acco Index Tab, Economy     $13.44    \n",
       "51289        Paper        Eaton Computer Printout Paper, 8.5 x 11     $61.38    \n",
       "\n",
       "       Quantity  Discount     Profit  Shipping Cost Order Priority  \n",
       "0             2       0.0    $62.15          40.770           High  \n",
       "1             9       0.1  ($288.77)        923.630       Critical  \n",
       "2             9       0.1   $919.97         915.490         Medium  \n",
       "3             5       0.1   ($96.54)        910.160         Medium  \n",
       "4             8       0.0   $311.52         903.040       Critical  \n",
       "...         ...       ...        ...            ...            ...  \n",
       "51285         5       0.0     $4.50           1.010         Medium  \n",
       "51286         5       0.2     $3.34           1.930           High  \n",
       "51287         2       0.0     $2.48           1.580           High  \n",
       "51288         2       0.0     $2.40           1.003         Medium  \n",
       "51289         3       0.0     $1.80           1.002           High  \n",
       "\n",
       "[51290 rows x 24 columns]>"
      ]
     },
     "execution_count": 4,
     "metadata": {},
     "output_type": "execute_result"
    }
   ],
   "source": [
    "df.info"
   ]
  },
  {
   "cell_type": "code",
   "execution_count": 5,
   "id": "a0596854",
   "metadata": {
    "execution": {
     "iopub.execute_input": "2023-04-17T16:06:08.630638Z",
     "iopub.status.busy": "2023-04-17T16:06:08.630082Z",
     "iopub.status.idle": "2023-04-17T16:06:08.641210Z",
     "shell.execute_reply": "2023-04-17T16:06:08.639590Z"
    },
    "papermill": {
     "duration": 0.028343,
     "end_time": "2023-04-17T16:06:08.644896",
     "exception": false,
     "start_time": "2023-04-17T16:06:08.616553",
     "status": "completed"
    },
    "tags": []
   },
   "outputs": [
    {
     "data": {
      "text/plain": [
       "Row ID              int64\n",
       "Order ID           object\n",
       "Order Date         object\n",
       "Ship Date          object\n",
       "Ship Mode          object\n",
       "Customer ID        object\n",
       "Customer Name      object\n",
       "Segment            object\n",
       "Postal Code       float64\n",
       "City               object\n",
       "State              object\n",
       "Country            object\n",
       "Region             object\n",
       "Market             object\n",
       "Product ID         object\n",
       "Category           object\n",
       "Sub-Category       object\n",
       "Product Name       object\n",
       "Sales              object\n",
       "Quantity            int64\n",
       "Discount          float64\n",
       "Profit             object\n",
       "Shipping Cost     float64\n",
       "Order Priority     object\n",
       "dtype: object"
      ]
     },
     "execution_count": 5,
     "metadata": {},
     "output_type": "execute_result"
    }
   ],
   "source": [
    "df.dtypes"
   ]
  },
  {
   "cell_type": "markdown",
   "id": "bff67849",
   "metadata": {
    "papermill": {
     "duration": 0.012856,
     "end_time": "2023-04-17T16:06:08.670164",
     "exception": false,
     "start_time": "2023-04-17T16:06:08.657308",
     "status": "completed"
    },
    "tags": []
   },
   "source": [
    "**1.3. Limitations**\n",
    "\n",
    "There are some limitations I found in the dataset.\n",
    "\n",
    "* It is out of date (Period between 2012 and May 2015).\n",
    "* Lack of context, specifically in the Profit column, I can see some negative values that we need more contet to analyze these values.\n",
    "\n",
    "Acknowledging these limitations, I decided to continue with the analysis and get some insight on the general market trends for this e-commerce."
   ]
  },
  {
   "cell_type": "markdown",
   "id": "36720763",
   "metadata": {
    "papermill": {
     "duration": 0.01225,
     "end_time": "2023-04-17T16:06:08.696071",
     "exception": false,
     "start_time": "2023-04-17T16:06:08.683821",
     "status": "completed"
    },
    "tags": []
   },
   "source": [
    "<a id=\"2\"></a> <br>\n",
    "> # **2. PROCESSING**\n",
    "\n",
    "Start processing the data, performing some cleaning, checking for missing data and duplicates values. Having the dataframe ready, start creating new columns and summarizing information for further analysis.\n"
   ]
  },
  {
   "cell_type": "markdown",
   "id": "b0a69cdd",
   "metadata": {
    "papermill": {
     "duration": 0.012253,
     "end_time": "2023-04-17T16:06:08.720380",
     "exception": false,
     "start_time": "2023-04-17T16:06:08.708127",
     "status": "completed"
    },
    "tags": []
   },
   "source": [
    "**2.1. Data cleaning**"
   ]
  },
  {
   "cell_type": "code",
   "execution_count": 6,
   "id": "8d73993d",
   "metadata": {
    "execution": {
     "iopub.execute_input": "2023-04-17T16:06:08.749786Z",
     "iopub.status.busy": "2023-04-17T16:06:08.748405Z",
     "iopub.status.idle": "2023-04-17T16:06:08.766872Z",
     "shell.execute_reply": "2023-04-17T16:06:08.765358Z"
    },
    "papermill": {
     "duration": 0.037336,
     "end_time": "2023-04-17T16:06:08.770297",
     "exception": false,
     "start_time": "2023-04-17T16:06:08.732961",
     "status": "completed"
    },
    "tags": []
   },
   "outputs": [],
   "source": [
    "# Delete unnecesary columns RowID and Postal Code\n",
    "\n",
    "df.drop(['Row ID', 'Postal Code', 'Profit'],\n",
    "         axis=1, inplace=True)"
   ]
  },
  {
   "cell_type": "code",
   "execution_count": 7,
   "id": "f644a366",
   "metadata": {
    "execution": {
     "iopub.execute_input": "2023-04-17T16:06:08.798704Z",
     "iopub.status.busy": "2023-04-17T16:06:08.798178Z",
     "iopub.status.idle": "2023-04-17T16:06:08.805534Z",
     "shell.execute_reply": "2023-04-17T16:06:08.803733Z"
    },
    "papermill": {
     "duration": 0.025318,
     "end_time": "2023-04-17T16:06:08.809290",
     "exception": false,
     "start_time": "2023-04-17T16:06:08.783972",
     "status": "completed"
    },
    "tags": []
   },
   "outputs": [
    {
     "name": "stdout",
     "output_type": "stream",
     "text": [
      "Index(['Order ID', 'Order Date', 'Ship Date', 'Ship Mode', 'Customer ID',\n",
      "       'Customer Name', 'Segment', 'City', 'State', 'Country', 'Region',\n",
      "       'Market', 'Product ID', 'Category', 'Sub-Category', 'Product Name',\n",
      "       'Sales', 'Quantity', 'Discount', 'Shipping Cost', 'Order Priority'],\n",
      "      dtype='object')\n"
     ]
    }
   ],
   "source": [
    "print(df.columns)"
   ]
  },
  {
   "cell_type": "code",
   "execution_count": 8,
   "id": "49344e02",
   "metadata": {
    "execution": {
     "iopub.execute_input": "2023-04-17T16:06:08.837911Z",
     "iopub.status.busy": "2023-04-17T16:06:08.837442Z",
     "iopub.status.idle": "2023-04-17T16:06:08.867427Z",
     "shell.execute_reply": "2023-04-17T16:06:08.866185Z"
    },
    "papermill": {
     "duration": 0.048694,
     "end_time": "2023-04-17T16:06:08.870576",
     "exception": false,
     "start_time": "2023-04-17T16:06:08.821882",
     "status": "completed"
    },
    "tags": []
   },
   "outputs": [],
   "source": [
    "# Re-name columns to a standard typing and making more sense\n",
    "\n",
    "df = df.rename(columns={'Ship Date': 'shipping_date', 'Ship Mode': 'shipping_mode', 'Sales': 'total_sale'})\n",
    "df.columns = map(str.lower, df.columns)\n",
    "df.columns = df.columns.str.replace(' ', '_')\n",
    "df.columns = df.columns.str.replace('-', '_')"
   ]
  },
  {
   "cell_type": "code",
   "execution_count": 9,
   "id": "0791b9cd",
   "metadata": {
    "execution": {
     "iopub.execute_input": "2023-04-17T16:06:08.902145Z",
     "iopub.status.busy": "2023-04-17T16:06:08.901263Z",
     "iopub.status.idle": "2023-04-17T16:06:08.997187Z",
     "shell.execute_reply": "2023-04-17T16:06:08.995178Z"
    },
    "papermill": {
     "duration": 0.115972,
     "end_time": "2023-04-17T16:06:09.000866",
     "exception": false,
     "start_time": "2023-04-17T16:06:08.884894",
     "status": "completed"
    },
    "tags": []
   },
   "outputs": [
    {
     "name": "stderr",
     "output_type": "stream",
     "text": [
      "/opt/conda/lib/python3.7/site-packages/ipykernel_launcher.py:3: FutureWarning: The default value of regex will change from True to False in a future version. In addition, single character regular expressions will *not* be treated as literal strings when regex=True.\n",
      "  This is separate from the ipykernel package so we can avoid doing imports until\n"
     ]
    }
   ],
   "source": [
    "# Format currency columns (object) into decimal (float)\n",
    "\n",
    "df['total_sale'] = df['total_sale'].str.replace('$', '').str.replace(',', '').astype(float)"
   ]
  },
  {
   "cell_type": "code",
   "execution_count": 10,
   "id": "18294c8b",
   "metadata": {
    "execution": {
     "iopub.execute_input": "2023-04-17T16:06:09.033409Z",
     "iopub.status.busy": "2023-04-17T16:06:09.032300Z",
     "iopub.status.idle": "2023-04-17T16:06:09.042501Z",
     "shell.execute_reply": "2023-04-17T16:06:09.041480Z"
    },
    "papermill": {
     "duration": 0.029405,
     "end_time": "2023-04-17T16:06:09.045478",
     "exception": false,
     "start_time": "2023-04-17T16:06:09.016073",
     "status": "completed"
    },
    "tags": []
   },
   "outputs": [],
   "source": [
    "# Standarize decimal (float) columns to 2 decimal places\n",
    "\n",
    "df['shipping_cost'] = df['shipping_cost'].round(2)\n",
    "df['total_sale'] = df['total_sale'].round(2)\n",
    "df['discount'] = df['discount'].round(2)"
   ]
  },
  {
   "cell_type": "code",
   "execution_count": 11,
   "id": "8f6e178d",
   "metadata": {
    "execution": {
     "iopub.execute_input": "2023-04-17T16:06:09.076159Z",
     "iopub.status.busy": "2023-04-17T16:06:09.074897Z",
     "iopub.status.idle": "2023-04-17T16:06:09.139205Z",
     "shell.execute_reply": "2023-04-17T16:06:09.137868Z"
    },
    "papermill": {
     "duration": 0.083399,
     "end_time": "2023-04-17T16:06:09.142571",
     "exception": false,
     "start_time": "2023-04-17T16:06:09.059172",
     "status": "completed"
    },
    "tags": []
   },
   "outputs": [],
   "source": [
    "# Format date columns (object) into datetime\n",
    "\n",
    "df['order_date'] = df['order_date'].str.replace('-', '/').astype(str)\n",
    "df['shipping_date'] = df['shipping_date'].str.replace('-', '/').astype(str)"
   ]
  },
  {
   "cell_type": "code",
   "execution_count": 12,
   "id": "ca78d01e",
   "metadata": {
    "execution": {
     "iopub.execute_input": "2023-04-17T16:06:09.167934Z",
     "iopub.status.busy": "2023-04-17T16:06:09.167531Z",
     "iopub.status.idle": "2023-04-17T16:06:09.476476Z",
     "shell.execute_reply": "2023-04-17T16:06:09.474747Z"
    },
    "papermill": {
     "duration": 0.325443,
     "end_time": "2023-04-17T16:06:09.479919",
     "exception": false,
     "start_time": "2023-04-17T16:06:09.154476",
     "status": "completed"
    },
    "tags": []
   },
   "outputs": [],
   "source": [
    "df['order_date'] = pd.to_datetime(df['order_date'], format='%d/%m/%Y')\n",
    "df['shipping_date'] = pd.to_datetime(df['shipping_date'], format='%d/%m/%Y')"
   ]
  },
  {
   "cell_type": "code",
   "execution_count": 13,
   "id": "72fc490b",
   "metadata": {
    "execution": {
     "iopub.execute_input": "2023-04-17T16:06:09.509002Z",
     "iopub.status.busy": "2023-04-17T16:06:09.508501Z",
     "iopub.status.idle": "2023-04-17T16:06:09.537966Z",
     "shell.execute_reply": "2023-04-17T16:06:09.536139Z"
    },
    "papermill": {
     "duration": 0.048669,
     "end_time": "2023-04-17T16:06:09.541122",
     "exception": false,
     "start_time": "2023-04-17T16:06:09.492453",
     "status": "completed"
    },
    "tags": []
   },
   "outputs": [
    {
     "data": {
      "text/html": [
       "<div>\n",
       "<style scoped>\n",
       "    .dataframe tbody tr th:only-of-type {\n",
       "        vertical-align: middle;\n",
       "    }\n",
       "\n",
       "    .dataframe tbody tr th {\n",
       "        vertical-align: top;\n",
       "    }\n",
       "\n",
       "    .dataframe thead th {\n",
       "        text-align: right;\n",
       "    }\n",
       "</style>\n",
       "<table border=\"1\" class=\"dataframe\">\n",
       "  <thead>\n",
       "    <tr style=\"text-align: right;\">\n",
       "      <th></th>\n",
       "      <th>order_id</th>\n",
       "      <th>order_date</th>\n",
       "      <th>shipping_date</th>\n",
       "      <th>shipping_mode</th>\n",
       "      <th>customer_id</th>\n",
       "      <th>customer_name</th>\n",
       "      <th>segment</th>\n",
       "      <th>city</th>\n",
       "      <th>state</th>\n",
       "      <th>country</th>\n",
       "      <th>region</th>\n",
       "      <th>market</th>\n",
       "      <th>product_id</th>\n",
       "      <th>category</th>\n",
       "      <th>sub_category</th>\n",
       "      <th>product_name</th>\n",
       "      <th>total_sale</th>\n",
       "      <th>quantity</th>\n",
       "      <th>discount</th>\n",
       "      <th>shipping_cost</th>\n",
       "      <th>order_priority</th>\n",
       "    </tr>\n",
       "  </thead>\n",
       "  <tbody>\n",
       "    <tr>\n",
       "      <th>0</th>\n",
       "      <td>CA-2014-AB10015140-41954</td>\n",
       "      <td>2014-11-11</td>\n",
       "      <td>2014-11-13</td>\n",
       "      <td>First Class</td>\n",
       "      <td>AB-100151402</td>\n",
       "      <td>Aaron Bergman</td>\n",
       "      <td>Consumer</td>\n",
       "      <td>Oklahoma City</td>\n",
       "      <td>Oklahoma</td>\n",
       "      <td>United States</td>\n",
       "      <td>Central US</td>\n",
       "      <td>USCA</td>\n",
       "      <td>TEC-PH-5816</td>\n",
       "      <td>Technology</td>\n",
       "      <td>Phones</td>\n",
       "      <td>Samsung Convoy 3</td>\n",
       "      <td>221.98</td>\n",
       "      <td>2</td>\n",
       "      <td>0.0</td>\n",
       "      <td>40.77</td>\n",
       "      <td>High</td>\n",
       "    </tr>\n",
       "    <tr>\n",
       "      <th>1</th>\n",
       "      <td>IN-2014-JR162107-41675</td>\n",
       "      <td>2014-02-05</td>\n",
       "      <td>2014-02-07</td>\n",
       "      <td>Second Class</td>\n",
       "      <td>JR-162107</td>\n",
       "      <td>Justin Ritter</td>\n",
       "      <td>Corporate</td>\n",
       "      <td>Wollongong</td>\n",
       "      <td>New South Wales</td>\n",
       "      <td>Australia</td>\n",
       "      <td>Oceania</td>\n",
       "      <td>Asia Pacific</td>\n",
       "      <td>FUR-CH-5379</td>\n",
       "      <td>Furniture</td>\n",
       "      <td>Chairs</td>\n",
       "      <td>Novimex Executive Leather Armchair, Black</td>\n",
       "      <td>3709.40</td>\n",
       "      <td>9</td>\n",
       "      <td>0.1</td>\n",
       "      <td>923.63</td>\n",
       "      <td>Critical</td>\n",
       "    </tr>\n",
       "  </tbody>\n",
       "</table>\n",
       "</div>"
      ],
      "text/plain": [
       "                   order_id order_date shipping_date shipping_mode  \\\n",
       "0  CA-2014-AB10015140-41954 2014-11-11    2014-11-13   First Class   \n",
       "1    IN-2014-JR162107-41675 2014-02-05    2014-02-07  Second Class   \n",
       "\n",
       "    customer_id  customer_name    segment           city            state  \\\n",
       "0  AB-100151402  Aaron Bergman   Consumer  Oklahoma City         Oklahoma   \n",
       "1     JR-162107  Justin Ritter  Corporate     Wollongong  New South Wales   \n",
       "\n",
       "         country      region        market   product_id    category  \\\n",
       "0  United States  Central US          USCA  TEC-PH-5816  Technology   \n",
       "1      Australia     Oceania  Asia Pacific  FUR-CH-5379   Furniture   \n",
       "\n",
       "  sub_category                               product_name  total_sale  \\\n",
       "0       Phones                           Samsung Convoy 3      221.98   \n",
       "1       Chairs  Novimex Executive Leather Armchair, Black     3709.40   \n",
       "\n",
       "   quantity  discount  shipping_cost order_priority  \n",
       "0         2       0.0          40.77           High  \n",
       "1         9       0.1         923.63       Critical  "
      ]
     },
     "execution_count": 13,
     "metadata": {},
     "output_type": "execute_result"
    }
   ],
   "source": [
    "df.head(2)"
   ]
  },
  {
   "cell_type": "code",
   "execution_count": 14,
   "id": "01781ef3",
   "metadata": {
    "execution": {
     "iopub.execute_input": "2023-04-17T16:06:09.571891Z",
     "iopub.status.busy": "2023-04-17T16:06:09.571383Z",
     "iopub.status.idle": "2023-04-17T16:06:09.582327Z",
     "shell.execute_reply": "2023-04-17T16:06:09.581141Z"
    },
    "papermill": {
     "duration": 0.030652,
     "end_time": "2023-04-17T16:06:09.584872",
     "exception": false,
     "start_time": "2023-04-17T16:06:09.554220",
     "status": "completed"
    },
    "tags": []
   },
   "outputs": [
    {
     "data": {
      "text/plain": [
       "order_id                  object\n",
       "order_date        datetime64[ns]\n",
       "shipping_date     datetime64[ns]\n",
       "shipping_mode             object\n",
       "customer_id               object\n",
       "customer_name             object\n",
       "segment                   object\n",
       "city                      object\n",
       "state                     object\n",
       "country                   object\n",
       "region                    object\n",
       "market                    object\n",
       "product_id                object\n",
       "category                  object\n",
       "sub_category              object\n",
       "product_name              object\n",
       "total_sale               float64\n",
       "quantity                   int64\n",
       "discount                 float64\n",
       "shipping_cost            float64\n",
       "order_priority            object\n",
       "dtype: object"
      ]
     },
     "execution_count": 14,
     "metadata": {},
     "output_type": "execute_result"
    }
   ],
   "source": [
    "df.dtypes"
   ]
  },
  {
   "cell_type": "code",
   "execution_count": 15,
   "id": "40c05798",
   "metadata": {
    "execution": {
     "iopub.execute_input": "2023-04-17T16:06:09.613292Z",
     "iopub.status.busy": "2023-04-17T16:06:09.612594Z",
     "iopub.status.idle": "2023-04-17T16:06:09.621408Z",
     "shell.execute_reply": "2023-04-17T16:06:09.619460Z"
    },
    "papermill": {
     "duration": 0.026293,
     "end_time": "2023-04-17T16:06:09.624153",
     "exception": false,
     "start_time": "2023-04-17T16:06:09.597860",
     "status": "completed"
    },
    "tags": []
   },
   "outputs": [
    {
     "name": "stdout",
     "output_type": "stream",
     "text": [
      "Index(['order_id', 'order_date', 'shipping_date', 'shipping_mode',\n",
      "       'customer_id', 'customer_name', 'segment', 'city', 'state', 'country',\n",
      "       'region', 'market', 'product_id', 'category', 'sub_category',\n",
      "       'product_name', 'total_sale', 'quantity', 'discount', 'shipping_cost',\n",
      "       'order_priority'],\n",
      "      dtype='object')\n"
     ]
    }
   ],
   "source": [
    "print(df.columns)"
   ]
  },
  {
   "cell_type": "code",
   "execution_count": 16,
   "id": "57cc1abd",
   "metadata": {
    "execution": {
     "iopub.execute_input": "2023-04-17T16:06:09.650771Z",
     "iopub.status.busy": "2023-04-17T16:06:09.650307Z",
     "iopub.status.idle": "2023-04-17T16:06:09.692868Z",
     "shell.execute_reply": "2023-04-17T16:06:09.691455Z"
    },
    "papermill": {
     "duration": 0.059007,
     "end_time": "2023-04-17T16:06:09.695478",
     "exception": false,
     "start_time": "2023-04-17T16:06:09.636471",
     "status": "completed"
    },
    "tags": []
   },
   "outputs": [
    {
     "data": {
      "text/html": [
       "<div>\n",
       "<style scoped>\n",
       "    .dataframe tbody tr th:only-of-type {\n",
       "        vertical-align: middle;\n",
       "    }\n",
       "\n",
       "    .dataframe tbody tr th {\n",
       "        vertical-align: top;\n",
       "    }\n",
       "\n",
       "    .dataframe thead th {\n",
       "        text-align: right;\n",
       "    }\n",
       "</style>\n",
       "<table border=\"1\" class=\"dataframe\">\n",
       "  <thead>\n",
       "    <tr style=\"text-align: right;\">\n",
       "      <th></th>\n",
       "      <th>order_date</th>\n",
       "      <th>order_id</th>\n",
       "      <th>order_priority</th>\n",
       "      <th>shipping_date</th>\n",
       "      <th>shipping_mode</th>\n",
       "      <th>shipping_cost</th>\n",
       "      <th>product_id</th>\n",
       "      <th>product_name</th>\n",
       "      <th>category</th>\n",
       "      <th>sub_category</th>\n",
       "      <th>quantity</th>\n",
       "      <th>total_sale</th>\n",
       "      <th>discount</th>\n",
       "      <th>customer_id</th>\n",
       "      <th>customer_name</th>\n",
       "      <th>segment</th>\n",
       "      <th>city</th>\n",
       "      <th>state</th>\n",
       "      <th>country</th>\n",
       "      <th>region</th>\n",
       "      <th>market</th>\n",
       "    </tr>\n",
       "  </thead>\n",
       "  <tbody>\n",
       "    <tr>\n",
       "      <th>0</th>\n",
       "      <td>2014-11-11</td>\n",
       "      <td>CA-2014-AB10015140-41954</td>\n",
       "      <td>High</td>\n",
       "      <td>2014-11-13</td>\n",
       "      <td>First Class</td>\n",
       "      <td>40.77</td>\n",
       "      <td>TEC-PH-5816</td>\n",
       "      <td>Samsung Convoy 3</td>\n",
       "      <td>Technology</td>\n",
       "      <td>Phones</td>\n",
       "      <td>2</td>\n",
       "      <td>221.98</td>\n",
       "      <td>0.0</td>\n",
       "      <td>AB-100151402</td>\n",
       "      <td>Aaron Bergman</td>\n",
       "      <td>Consumer</td>\n",
       "      <td>Oklahoma City</td>\n",
       "      <td>Oklahoma</td>\n",
       "      <td>United States</td>\n",
       "      <td>Central US</td>\n",
       "      <td>USCA</td>\n",
       "    </tr>\n",
       "    <tr>\n",
       "      <th>1</th>\n",
       "      <td>2014-02-05</td>\n",
       "      <td>IN-2014-JR162107-41675</td>\n",
       "      <td>Critical</td>\n",
       "      <td>2014-02-07</td>\n",
       "      <td>Second Class</td>\n",
       "      <td>923.63</td>\n",
       "      <td>FUR-CH-5379</td>\n",
       "      <td>Novimex Executive Leather Armchair, Black</td>\n",
       "      <td>Furniture</td>\n",
       "      <td>Chairs</td>\n",
       "      <td>9</td>\n",
       "      <td>3709.40</td>\n",
       "      <td>0.1</td>\n",
       "      <td>JR-162107</td>\n",
       "      <td>Justin Ritter</td>\n",
       "      <td>Corporate</td>\n",
       "      <td>Wollongong</td>\n",
       "      <td>New South Wales</td>\n",
       "      <td>Australia</td>\n",
       "      <td>Oceania</td>\n",
       "      <td>Asia Pacific</td>\n",
       "    </tr>\n",
       "  </tbody>\n",
       "</table>\n",
       "</div>"
      ],
      "text/plain": [
       "  order_date                  order_id order_priority shipping_date  \\\n",
       "0 2014-11-11  CA-2014-AB10015140-41954           High    2014-11-13   \n",
       "1 2014-02-05    IN-2014-JR162107-41675       Critical    2014-02-07   \n",
       "\n",
       "  shipping_mode  shipping_cost   product_id  \\\n",
       "0   First Class          40.77  TEC-PH-5816   \n",
       "1  Second Class         923.63  FUR-CH-5379   \n",
       "\n",
       "                                product_name    category sub_category  \\\n",
       "0                           Samsung Convoy 3  Technology       Phones   \n",
       "1  Novimex Executive Leather Armchair, Black   Furniture       Chairs   \n",
       "\n",
       "   quantity  total_sale  discount   customer_id  customer_name    segment  \\\n",
       "0         2      221.98       0.0  AB-100151402  Aaron Bergman   Consumer   \n",
       "1         9     3709.40       0.1     JR-162107  Justin Ritter  Corporate   \n",
       "\n",
       "            city            state        country      region        market  \n",
       "0  Oklahoma City         Oklahoma  United States  Central US          USCA  \n",
       "1     Wollongong  New South Wales      Australia     Oceania  Asia Pacific  "
      ]
     },
     "execution_count": 16,
     "metadata": {},
     "output_type": "execute_result"
    }
   ],
   "source": [
    "# Re-order columns making more sense\n",
    "\n",
    "df = df.reindex(columns=['order_date', 'order_id', 'order_priority', 'shipping_date', 'shipping_mode', 'shipping_cost',\n",
    "                         'product_id', 'product_name', 'category', 'sub_category', 'quantity', 'total_sale', 'discount',\n",
    "                         'customer_id', 'customer_name', 'segment', 'city', 'state', 'country', 'region', 'market'])\n",
    "\n",
    "pd.set_option('display.max_columns', None)\n",
    "df.head(2)"
   ]
  },
  {
   "cell_type": "code",
   "execution_count": 17,
   "id": "d94fc0e7",
   "metadata": {
    "execution": {
     "iopub.execute_input": "2023-04-17T16:06:09.722464Z",
     "iopub.status.busy": "2023-04-17T16:06:09.722029Z",
     "iopub.status.idle": "2023-04-17T16:06:09.775930Z",
     "shell.execute_reply": "2023-04-17T16:06:09.774290Z"
    },
    "papermill": {
     "duration": 0.072001,
     "end_time": "2023-04-17T16:06:09.779636",
     "exception": false,
     "start_time": "2023-04-17T16:06:09.707635",
     "status": "completed"
    },
    "tags": []
   },
   "outputs": [
    {
     "name": "stdout",
     "output_type": "stream",
     "text": [
      "order_date - 0.0%\n",
      "order_id - 0.0%\n",
      "order_priority - 0.0%\n",
      "shipping_date - 0.0%\n",
      "shipping_mode - 0.0%\n",
      "shipping_cost - 0.0%\n",
      "product_id - 0.0%\n",
      "product_name - 0.0%\n",
      "category - 0.0%\n",
      "sub_category - 0.0%\n",
      "quantity - 0.0%\n",
      "total_sale - 0.0%\n",
      "discount - 0.0%\n",
      "customer_id - 0.0%\n",
      "customer_name - 0.0%\n",
      "segment - 0.0%\n",
      "city - 0.0%\n",
      "state - 0.0%\n",
      "country - 0.0%\n",
      "region - 0.0%\n",
      "market - 0.0%\n"
     ]
    }
   ],
   "source": [
    "# Missing data\n",
    "\n",
    "for col in df.columns:\n",
    "    pct_missing = np.mean(df[col].isnull())\n",
    "    print('{} - {}%'.format(col, pct_missing))"
   ]
  },
  {
   "cell_type": "code",
   "execution_count": 18,
   "id": "53702ae9",
   "metadata": {
    "execution": {
     "iopub.execute_input": "2023-04-17T16:06:09.810025Z",
     "iopub.status.busy": "2023-04-17T16:06:09.809024Z",
     "iopub.status.idle": "2023-04-17T16:06:09.930822Z",
     "shell.execute_reply": "2023-04-17T16:06:09.929667Z"
    },
    "papermill": {
     "duration": 0.140114,
     "end_time": "2023-04-17T16:06:09.933831",
     "exception": false,
     "start_time": "2023-04-17T16:06:09.793717",
     "status": "completed"
    },
    "tags": []
   },
   "outputs": [
    {
     "data": {
      "text/html": [
       "<div>\n",
       "<style scoped>\n",
       "    .dataframe tbody tr th:only-of-type {\n",
       "        vertical-align: middle;\n",
       "    }\n",
       "\n",
       "    .dataframe tbody tr th {\n",
       "        vertical-align: top;\n",
       "    }\n",
       "\n",
       "    .dataframe thead th {\n",
       "        text-align: right;\n",
       "    }\n",
       "</style>\n",
       "<table border=\"1\" class=\"dataframe\">\n",
       "  <thead>\n",
       "    <tr style=\"text-align: right;\">\n",
       "      <th></th>\n",
       "      <th>order_date</th>\n",
       "      <th>order_id</th>\n",
       "      <th>order_priority</th>\n",
       "      <th>shipping_date</th>\n",
       "      <th>shipping_mode</th>\n",
       "      <th>shipping_cost</th>\n",
       "      <th>product_id</th>\n",
       "      <th>product_name</th>\n",
       "      <th>category</th>\n",
       "      <th>sub_category</th>\n",
       "      <th>quantity</th>\n",
       "      <th>total_sale</th>\n",
       "      <th>discount</th>\n",
       "      <th>customer_id</th>\n",
       "      <th>customer_name</th>\n",
       "      <th>segment</th>\n",
       "      <th>city</th>\n",
       "      <th>state</th>\n",
       "      <th>country</th>\n",
       "      <th>region</th>\n",
       "      <th>market</th>\n",
       "    </tr>\n",
       "  </thead>\n",
       "  <tbody>\n",
       "  </tbody>\n",
       "</table>\n",
       "</div>"
      ],
      "text/plain": [
       "Empty DataFrame\n",
       "Columns: [order_date, order_id, order_priority, shipping_date, shipping_mode, shipping_cost, product_id, product_name, category, sub_category, quantity, total_sale, discount, customer_id, customer_name, segment, city, state, country, region, market]\n",
       "Index: []"
      ]
     },
     "execution_count": 18,
     "metadata": {},
     "output_type": "execute_result"
    }
   ],
   "source": [
    "# Checking for duplicates\n",
    "\n",
    "df.loc[df.duplicated()]"
   ]
  },
  {
   "cell_type": "code",
   "execution_count": 19,
   "id": "97fbf252",
   "metadata": {
    "execution": {
     "iopub.execute_input": "2023-04-17T16:06:09.963819Z",
     "iopub.status.busy": "2023-04-17T16:06:09.963428Z",
     "iopub.status.idle": "2023-04-17T16:06:10.004241Z",
     "shell.execute_reply": "2023-04-17T16:06:10.002955Z"
    },
    "papermill": {
     "duration": 0.058827,
     "end_time": "2023-04-17T16:06:10.006926",
     "exception": false,
     "start_time": "2023-04-17T16:06:09.948099",
     "status": "completed"
    },
    "tags": []
   },
   "outputs": [
    {
     "data": {
      "text/html": [
       "<div>\n",
       "<style scoped>\n",
       "    .dataframe tbody tr th:only-of-type {\n",
       "        vertical-align: middle;\n",
       "    }\n",
       "\n",
       "    .dataframe tbody tr th {\n",
       "        vertical-align: top;\n",
       "    }\n",
       "\n",
       "    .dataframe thead th {\n",
       "        text-align: right;\n",
       "    }\n",
       "</style>\n",
       "<table border=\"1\" class=\"dataframe\">\n",
       "  <thead>\n",
       "    <tr style=\"text-align: right;\">\n",
       "      <th></th>\n",
       "      <th>order_date</th>\n",
       "      <th>order_id</th>\n",
       "      <th>order_priority</th>\n",
       "      <th>shipping_date</th>\n",
       "      <th>shipping_mode</th>\n",
       "      <th>shipping_cost</th>\n",
       "      <th>product_id</th>\n",
       "      <th>product_name</th>\n",
       "      <th>category</th>\n",
       "      <th>sub_category</th>\n",
       "      <th>quantity</th>\n",
       "      <th>total_sale</th>\n",
       "      <th>discount</th>\n",
       "      <th>customer_id</th>\n",
       "      <th>customer_name</th>\n",
       "      <th>segment</th>\n",
       "      <th>city</th>\n",
       "      <th>state</th>\n",
       "      <th>country</th>\n",
       "      <th>region</th>\n",
       "      <th>market</th>\n",
       "    </tr>\n",
       "  </thead>\n",
       "  <tbody>\n",
       "    <tr>\n",
       "      <th>8</th>\n",
       "      <td>2014-11-11</td>\n",
       "      <td>CA-2014-AB10015140-41954</td>\n",
       "      <td>High</td>\n",
       "      <td>2014-11-13</td>\n",
       "      <td>First Class</td>\n",
       "      <td>25.27</td>\n",
       "      <td>FUR-BO-5957</td>\n",
       "      <td>Sauder Facets Collection Library, Sky Alder Fi...</td>\n",
       "      <td>Furniture</td>\n",
       "      <td>Bookcases</td>\n",
       "      <td>2</td>\n",
       "      <td>341.96</td>\n",
       "      <td>0.0</td>\n",
       "      <td>AB-100151402</td>\n",
       "      <td>Aaron Bergman</td>\n",
       "      <td>Consumer</td>\n",
       "      <td>Oklahoma City</td>\n",
       "      <td>Oklahoma</td>\n",
       "      <td>United States</td>\n",
       "      <td>Central US</td>\n",
       "      <td>USCA</td>\n",
       "    </tr>\n",
       "    <tr>\n",
       "      <th>10</th>\n",
       "      <td>2012-03-06</td>\n",
       "      <td>CA-2012-AB10015140-40974</td>\n",
       "      <td>High</td>\n",
       "      <td>2012-03-07</td>\n",
       "      <td>First Class</td>\n",
       "      <td>4.29</td>\n",
       "      <td>OFF-AR-5309</td>\n",
       "      <td>Newell 330</td>\n",
       "      <td>Office Supplies</td>\n",
       "      <td>Art</td>\n",
       "      <td>3</td>\n",
       "      <td>17.94</td>\n",
       "      <td>0.0</td>\n",
       "      <td>AB-100151404</td>\n",
       "      <td>Aaron Bergman</td>\n",
       "      <td>Consumer</td>\n",
       "      <td>Seattle</td>\n",
       "      <td>Washington</td>\n",
       "      <td>United States</td>\n",
       "      <td>Western US</td>\n",
       "      <td>USCA</td>\n",
       "    </tr>\n",
       "    <tr>\n",
       "      <th>21</th>\n",
       "      <td>2012-03-06</td>\n",
       "      <td>CA-2012-AB10015140-40974</td>\n",
       "      <td>High</td>\n",
       "      <td>2012-03-07</td>\n",
       "      <td>First Class</td>\n",
       "      <td>1.28</td>\n",
       "      <td>OFF-ST-3744</td>\n",
       "      <td>Carina 42\"Hx23 3/4\"W Media Storage Unit</td>\n",
       "      <td>Office Supplies</td>\n",
       "      <td>Storage</td>\n",
       "      <td>3</td>\n",
       "      <td>242.94</td>\n",
       "      <td>0.0</td>\n",
       "      <td>AB-100151404</td>\n",
       "      <td>Aaron Bergman</td>\n",
       "      <td>Consumer</td>\n",
       "      <td>Seattle</td>\n",
       "      <td>Washington</td>\n",
       "      <td>United States</td>\n",
       "      <td>Western US</td>\n",
       "      <td>USCA</td>\n",
       "    </tr>\n",
       "    <tr>\n",
       "      <th>34</th>\n",
       "      <td>2013-12-27</td>\n",
       "      <td>CA-2013-AH10030140-41635</td>\n",
       "      <td>Medium</td>\n",
       "      <td>2013-12-31</td>\n",
       "      <td>Standard Class</td>\n",
       "      <td>26.70</td>\n",
       "      <td>OFF-ST-4291</td>\n",
       "      <td>Fellowes Super Stor/Drawer Files</td>\n",
       "      <td>Office Supplies</td>\n",
       "      <td>Storage</td>\n",
       "      <td>2</td>\n",
       "      <td>323.10</td>\n",
       "      <td>0.0</td>\n",
       "      <td>AH-100301404</td>\n",
       "      <td>Aaron Hawkins</td>\n",
       "      <td>Corporate</td>\n",
       "      <td>San Francisco</td>\n",
       "      <td>California</td>\n",
       "      <td>United States</td>\n",
       "      <td>Western US</td>\n",
       "      <td>USCA</td>\n",
       "    </tr>\n",
       "    <tr>\n",
       "      <th>52</th>\n",
       "      <td>2012-12-30</td>\n",
       "      <td>CA-2012-AH10030140-41273</td>\n",
       "      <td>High</td>\n",
       "      <td>2012-12-31</td>\n",
       "      <td>First Class</td>\n",
       "      <td>1.30</td>\n",
       "      <td>OFF-LA-3231</td>\n",
       "      <td>Avery 51</td>\n",
       "      <td>Office Supplies</td>\n",
       "      <td>Labels</td>\n",
       "      <td>3</td>\n",
       "      <td>18.90</td>\n",
       "      <td>0.0</td>\n",
       "      <td>AH-100301406</td>\n",
       "      <td>Aaron Hawkins</td>\n",
       "      <td>Corporate</td>\n",
       "      <td>New York City</td>\n",
       "      <td>New York</td>\n",
       "      <td>United States</td>\n",
       "      <td>Eastern US</td>\n",
       "      <td>USCA</td>\n",
       "    </tr>\n",
       "  </tbody>\n",
       "</table>\n",
       "</div>"
      ],
      "text/plain": [
       "   order_date                  order_id order_priority shipping_date  \\\n",
       "8  2014-11-11  CA-2014-AB10015140-41954           High    2014-11-13   \n",
       "10 2012-03-06  CA-2012-AB10015140-40974           High    2012-03-07   \n",
       "21 2012-03-06  CA-2012-AB10015140-40974           High    2012-03-07   \n",
       "34 2013-12-27  CA-2013-AH10030140-41635         Medium    2013-12-31   \n",
       "52 2012-12-30  CA-2012-AH10030140-41273           High    2012-12-31   \n",
       "\n",
       "     shipping_mode  shipping_cost   product_id  \\\n",
       "8      First Class          25.27  FUR-BO-5957   \n",
       "10     First Class           4.29  OFF-AR-5309   \n",
       "21     First Class           1.28  OFF-ST-3744   \n",
       "34  Standard Class          26.70  OFF-ST-4291   \n",
       "52     First Class           1.30  OFF-LA-3231   \n",
       "\n",
       "                                         product_name         category  \\\n",
       "8   Sauder Facets Collection Library, Sky Alder Fi...        Furniture   \n",
       "10                                         Newell 330  Office Supplies   \n",
       "21            Carina 42\"Hx23 3/4\"W Media Storage Unit  Office Supplies   \n",
       "34                   Fellowes Super Stor/Drawer Files  Office Supplies   \n",
       "52                                           Avery 51  Office Supplies   \n",
       "\n",
       "   sub_category  quantity  total_sale  discount   customer_id  customer_name  \\\n",
       "8     Bookcases         2      341.96       0.0  AB-100151402  Aaron Bergman   \n",
       "10          Art         3       17.94       0.0  AB-100151404  Aaron Bergman   \n",
       "21      Storage         3      242.94       0.0  AB-100151404  Aaron Bergman   \n",
       "34      Storage         2      323.10       0.0  AH-100301404  Aaron Hawkins   \n",
       "52       Labels         3       18.90       0.0  AH-100301406  Aaron Hawkins   \n",
       "\n",
       "      segment           city       state        country      region market  \n",
       "8    Consumer  Oklahoma City    Oklahoma  United States  Central US   USCA  \n",
       "10   Consumer        Seattle  Washington  United States  Western US   USCA  \n",
       "21   Consumer        Seattle  Washington  United States  Western US   USCA  \n",
       "34  Corporate  San Francisco  California  United States  Western US   USCA  \n",
       "52  Corporate  New York City    New York  United States  Eastern US   USCA  "
      ]
     },
     "execution_count": 19,
     "metadata": {},
     "output_type": "execute_result"
    }
   ],
   "source": [
    "df.loc[df.duplicated(subset=['order_id'])].head()\n",
    "\n",
    "    # Checking column order_id duplicates are due probably for adjustments or changes to the original order\n",
    "    # as it seems to be in order CA-2012-AB10015140-40974, where there are both related to different products"
   ]
  },
  {
   "cell_type": "code",
   "execution_count": 20,
   "id": "47918f0f",
   "metadata": {
    "execution": {
     "iopub.execute_input": "2023-04-17T16:06:10.039697Z",
     "iopub.status.busy": "2023-04-17T16:06:10.039263Z",
     "iopub.status.idle": "2023-04-17T16:06:10.077954Z",
     "shell.execute_reply": "2023-04-17T16:06:10.076566Z"
    },
    "papermill": {
     "duration": 0.057419,
     "end_time": "2023-04-17T16:06:10.080888",
     "exception": false,
     "start_time": "2023-04-17T16:06:10.023469",
     "status": "completed"
    },
    "tags": []
   },
   "outputs": [
    {
     "data": {
      "text/plain": [
       "6952     ZA-2015-TS11205146-42062\n",
       "11016    ZA-2015-SW10350146-42061\n",
       "34237    ZA-2015-SM10005146-42241\n",
       "22287     ZA-2015-RP9390146-42099\n",
       "42720     ZA-2015-RC9960146-42257\n",
       "                   ...           \n",
       "46948     AE-2015-JD5790138-42070\n",
       "27486     AE-2015-GH4665138-42351\n",
       "44217     AE-2014-MY7380138-42004\n",
       "5597      AE-2014-EB4110138-41926\n",
       "29575     AE-2012-PO8865138-41184\n",
       "Name: order_id, Length: 25728, dtype: object"
      ]
     },
     "execution_count": 20,
     "metadata": {},
     "output_type": "execute_result"
    }
   ],
   "source": [
    "df['order_id'].drop_duplicates().sort_values(ascending=False)"
   ]
  },
  {
   "cell_type": "markdown",
   "id": "249191ed",
   "metadata": {
    "papermill": {
     "duration": 0.013811,
     "end_time": "2023-04-17T16:06:10.109000",
     "exception": false,
     "start_time": "2023-04-17T16:06:10.095189",
     "status": "completed"
    },
    "tags": []
   },
   "source": [
    "**2.2. Data processing**"
   ]
  },
  {
   "cell_type": "code",
   "execution_count": 21,
   "id": "aa73f175",
   "metadata": {
    "execution": {
     "iopub.execute_input": "2023-04-17T16:06:10.140373Z",
     "iopub.status.busy": "2023-04-17T16:06:10.139956Z",
     "iopub.status.idle": "2023-04-17T16:06:10.165316Z",
     "shell.execute_reply": "2023-04-17T16:06:10.164405Z"
    },
    "papermill": {
     "duration": 0.044642,
     "end_time": "2023-04-17T16:06:10.167781",
     "exception": false,
     "start_time": "2023-04-17T16:06:10.123139",
     "status": "completed"
    },
    "tags": []
   },
   "outputs": [
    {
     "data": {
      "text/html": [
       "<div>\n",
       "<style scoped>\n",
       "    .dataframe tbody tr th:only-of-type {\n",
       "        vertical-align: middle;\n",
       "    }\n",
       "\n",
       "    .dataframe tbody tr th {\n",
       "        vertical-align: top;\n",
       "    }\n",
       "\n",
       "    .dataframe thead th {\n",
       "        text-align: right;\n",
       "    }\n",
       "</style>\n",
       "<table border=\"1\" class=\"dataframe\">\n",
       "  <thead>\n",
       "    <tr style=\"text-align: right;\">\n",
       "      <th></th>\n",
       "      <th>order_date</th>\n",
       "      <th>order_id</th>\n",
       "      <th>order_priority</th>\n",
       "      <th>shipping_date</th>\n",
       "      <th>order_processing_time</th>\n",
       "      <th>shipping_mode</th>\n",
       "      <th>shipping_cost</th>\n",
       "      <th>product_id</th>\n",
       "      <th>product_name</th>\n",
       "      <th>category</th>\n",
       "      <th>sub_category</th>\n",
       "      <th>quantity</th>\n",
       "      <th>total_sale</th>\n",
       "      <th>discount</th>\n",
       "      <th>customer_id</th>\n",
       "      <th>customer_name</th>\n",
       "      <th>segment</th>\n",
       "      <th>city</th>\n",
       "      <th>state</th>\n",
       "      <th>country</th>\n",
       "      <th>region</th>\n",
       "      <th>market</th>\n",
       "    </tr>\n",
       "  </thead>\n",
       "  <tbody>\n",
       "    <tr>\n",
       "      <th>0</th>\n",
       "      <td>2014-11-11</td>\n",
       "      <td>CA-2014-AB10015140-41954</td>\n",
       "      <td>High</td>\n",
       "      <td>2014-11-13</td>\n",
       "      <td>2</td>\n",
       "      <td>First Class</td>\n",
       "      <td>40.77</td>\n",
       "      <td>TEC-PH-5816</td>\n",
       "      <td>Samsung Convoy 3</td>\n",
       "      <td>Technology</td>\n",
       "      <td>Phones</td>\n",
       "      <td>2</td>\n",
       "      <td>221.98</td>\n",
       "      <td>0.0</td>\n",
       "      <td>AB-100151402</td>\n",
       "      <td>Aaron Bergman</td>\n",
       "      <td>Consumer</td>\n",
       "      <td>Oklahoma City</td>\n",
       "      <td>Oklahoma</td>\n",
       "      <td>United States</td>\n",
       "      <td>Central US</td>\n",
       "      <td>USCA</td>\n",
       "    </tr>\n",
       "    <tr>\n",
       "      <th>1</th>\n",
       "      <td>2014-02-05</td>\n",
       "      <td>IN-2014-JR162107-41675</td>\n",
       "      <td>Critical</td>\n",
       "      <td>2014-02-07</td>\n",
       "      <td>2</td>\n",
       "      <td>Second Class</td>\n",
       "      <td>923.63</td>\n",
       "      <td>FUR-CH-5379</td>\n",
       "      <td>Novimex Executive Leather Armchair, Black</td>\n",
       "      <td>Furniture</td>\n",
       "      <td>Chairs</td>\n",
       "      <td>9</td>\n",
       "      <td>3709.40</td>\n",
       "      <td>0.1</td>\n",
       "      <td>JR-162107</td>\n",
       "      <td>Justin Ritter</td>\n",
       "      <td>Corporate</td>\n",
       "      <td>Wollongong</td>\n",
       "      <td>New South Wales</td>\n",
       "      <td>Australia</td>\n",
       "      <td>Oceania</td>\n",
       "      <td>Asia Pacific</td>\n",
       "    </tr>\n",
       "  </tbody>\n",
       "</table>\n",
       "</div>"
      ],
      "text/plain": [
       "  order_date                  order_id order_priority shipping_date  \\\n",
       "0 2014-11-11  CA-2014-AB10015140-41954           High    2014-11-13   \n",
       "1 2014-02-05    IN-2014-JR162107-41675       Critical    2014-02-07   \n",
       "\n",
       "   order_processing_time shipping_mode  shipping_cost   product_id  \\\n",
       "0                      2   First Class          40.77  TEC-PH-5816   \n",
       "1                      2  Second Class         923.63  FUR-CH-5379   \n",
       "\n",
       "                                product_name    category sub_category  \\\n",
       "0                           Samsung Convoy 3  Technology       Phones   \n",
       "1  Novimex Executive Leather Armchair, Black   Furniture       Chairs   \n",
       "\n",
       "   quantity  total_sale  discount   customer_id  customer_name    segment  \\\n",
       "0         2      221.98       0.0  AB-100151402  Aaron Bergman   Consumer   \n",
       "1         9     3709.40       0.1     JR-162107  Justin Ritter  Corporate   \n",
       "\n",
       "            city            state        country      region        market  \n",
       "0  Oklahoma City         Oklahoma  United States  Central US          USCA  \n",
       "1     Wollongong  New South Wales      Australia     Oceania  Asia Pacific  "
      ]
     },
     "execution_count": 21,
     "metadata": {},
     "output_type": "execute_result"
    }
   ],
   "source": [
    "# Insert order processing time column\n",
    "\n",
    "df.insert(loc=4, column='order_processing_time', value=(df['shipping_date'] - df['order_date']).dt.days)\n",
    "df.head(2)"
   ]
  },
  {
   "cell_type": "code",
   "execution_count": 22,
   "id": "17cdaf3b",
   "metadata": {
    "execution": {
     "iopub.execute_input": "2023-04-17T16:06:10.200704Z",
     "iopub.status.busy": "2023-04-17T16:06:10.199186Z",
     "iopub.status.idle": "2023-04-17T16:06:10.228424Z",
     "shell.execute_reply": "2023-04-17T16:06:10.227162Z"
    },
    "papermill": {
     "duration": 0.049099,
     "end_time": "2023-04-17T16:06:10.231618",
     "exception": false,
     "start_time": "2023-04-17T16:06:10.182519",
     "status": "completed"
    },
    "tags": []
   },
   "outputs": [
    {
     "data": {
      "text/html": [
       "<div>\n",
       "<style scoped>\n",
       "    .dataframe tbody tr th:only-of-type {\n",
       "        vertical-align: middle;\n",
       "    }\n",
       "\n",
       "    .dataframe tbody tr th {\n",
       "        vertical-align: top;\n",
       "    }\n",
       "\n",
       "    .dataframe thead th {\n",
       "        text-align: right;\n",
       "    }\n",
       "</style>\n",
       "<table border=\"1\" class=\"dataframe\">\n",
       "  <thead>\n",
       "    <tr style=\"text-align: right;\">\n",
       "      <th></th>\n",
       "      <th>order_date</th>\n",
       "      <th>order_id</th>\n",
       "      <th>order_priority</th>\n",
       "      <th>shipping_date</th>\n",
       "      <th>order_processing_time</th>\n",
       "      <th>shipping_mode</th>\n",
       "      <th>shipping_cost</th>\n",
       "      <th>product_id</th>\n",
       "      <th>product_name</th>\n",
       "      <th>category</th>\n",
       "      <th>sub_category</th>\n",
       "      <th>price_unit</th>\n",
       "      <th>quantity</th>\n",
       "      <th>total_sale</th>\n",
       "      <th>discount</th>\n",
       "      <th>customer_id</th>\n",
       "      <th>customer_name</th>\n",
       "      <th>segment</th>\n",
       "      <th>city</th>\n",
       "      <th>state</th>\n",
       "      <th>country</th>\n",
       "      <th>region</th>\n",
       "      <th>market</th>\n",
       "    </tr>\n",
       "  </thead>\n",
       "  <tbody>\n",
       "    <tr>\n",
       "      <th>0</th>\n",
       "      <td>2014-11-11</td>\n",
       "      <td>CA-2014-AB10015140-41954</td>\n",
       "      <td>High</td>\n",
       "      <td>2014-11-13</td>\n",
       "      <td>2</td>\n",
       "      <td>First Class</td>\n",
       "      <td>40.77</td>\n",
       "      <td>TEC-PH-5816</td>\n",
       "      <td>Samsung Convoy 3</td>\n",
       "      <td>Technology</td>\n",
       "      <td>Phones</td>\n",
       "      <td>110.99</td>\n",
       "      <td>2</td>\n",
       "      <td>221.98</td>\n",
       "      <td>0.0</td>\n",
       "      <td>AB-100151402</td>\n",
       "      <td>Aaron Bergman</td>\n",
       "      <td>Consumer</td>\n",
       "      <td>Oklahoma City</td>\n",
       "      <td>Oklahoma</td>\n",
       "      <td>United States</td>\n",
       "      <td>Central US</td>\n",
       "      <td>USCA</td>\n",
       "    </tr>\n",
       "    <tr>\n",
       "      <th>1</th>\n",
       "      <td>2014-02-05</td>\n",
       "      <td>IN-2014-JR162107-41675</td>\n",
       "      <td>Critical</td>\n",
       "      <td>2014-02-07</td>\n",
       "      <td>2</td>\n",
       "      <td>Second Class</td>\n",
       "      <td>923.63</td>\n",
       "      <td>FUR-CH-5379</td>\n",
       "      <td>Novimex Executive Leather Armchair, Black</td>\n",
       "      <td>Furniture</td>\n",
       "      <td>Chairs</td>\n",
       "      <td>412.16</td>\n",
       "      <td>9</td>\n",
       "      <td>3709.40</td>\n",
       "      <td>0.1</td>\n",
       "      <td>JR-162107</td>\n",
       "      <td>Justin Ritter</td>\n",
       "      <td>Corporate</td>\n",
       "      <td>Wollongong</td>\n",
       "      <td>New South Wales</td>\n",
       "      <td>Australia</td>\n",
       "      <td>Oceania</td>\n",
       "      <td>Asia Pacific</td>\n",
       "    </tr>\n",
       "  </tbody>\n",
       "</table>\n",
       "</div>"
      ],
      "text/plain": [
       "  order_date                  order_id order_priority shipping_date  \\\n",
       "0 2014-11-11  CA-2014-AB10015140-41954           High    2014-11-13   \n",
       "1 2014-02-05    IN-2014-JR162107-41675       Critical    2014-02-07   \n",
       "\n",
       "   order_processing_time shipping_mode  shipping_cost   product_id  \\\n",
       "0                      2   First Class          40.77  TEC-PH-5816   \n",
       "1                      2  Second Class         923.63  FUR-CH-5379   \n",
       "\n",
       "                                product_name    category sub_category  \\\n",
       "0                           Samsung Convoy 3  Technology       Phones   \n",
       "1  Novimex Executive Leather Armchair, Black   Furniture       Chairs   \n",
       "\n",
       "   price_unit  quantity  total_sale  discount   customer_id  customer_name  \\\n",
       "0      110.99         2      221.98       0.0  AB-100151402  Aaron Bergman   \n",
       "1      412.16         9     3709.40       0.1     JR-162107  Justin Ritter   \n",
       "\n",
       "     segment           city            state        country      region  \\\n",
       "0   Consumer  Oklahoma City         Oklahoma  United States  Central US   \n",
       "1  Corporate     Wollongong  New South Wales      Australia     Oceania   \n",
       "\n",
       "         market  \n",
       "0          USCA  \n",
       "1  Asia Pacific  "
      ]
     },
     "execution_count": 22,
     "metadata": {},
     "output_type": "execute_result"
    }
   ],
   "source": [
    "# Add price_per unit column:\n",
    "\n",
    "    # Start by creating the column calculating the price per unit value\n",
    "\n",
    "df['price_unit'] = df['total_sale'] / df['quantity']\n",
    "df['price_unit'] = df['price_unit'].round(2)\n",
    "\n",
    "    # Now remove the column, and then inserting in a better position\n",
    "\n",
    "price_unit = df.pop('price_unit')\n",
    "df.insert(loc=11, column='price_unit', value=price_unit)\n",
    "\n",
    "df.head(2)"
   ]
  },
  {
   "cell_type": "markdown",
   "id": "a18c6412",
   "metadata": {
    "papermill": {
     "duration": 0.015386,
     "end_time": "2023-04-17T16:06:10.263818",
     "exception": false,
     "start_time": "2023-04-17T16:06:10.248432",
     "status": "completed"
    },
    "tags": []
   },
   "source": [
    "<a id=\"5\"></a> <br>\n",
    "> # **5. ANALYSIS**\n",
    " \n"
   ]
  },
  {
   "cell_type": "code",
   "execution_count": 23,
   "id": "846fa312",
   "metadata": {
    "execution": {
     "iopub.execute_input": "2023-04-17T16:06:10.297764Z",
     "iopub.status.busy": "2023-04-17T16:06:10.297309Z",
     "iopub.status.idle": "2023-04-17T16:06:10.310236Z",
     "shell.execute_reply": "2023-04-17T16:06:10.308709Z"
    },
    "papermill": {
     "duration": 0.033923,
     "end_time": "2023-04-17T16:06:10.313679",
     "exception": false,
     "start_time": "2023-04-17T16:06:10.279756",
     "status": "completed"
    },
    "tags": []
   },
   "outputs": [],
   "source": [
    "# Summarizing data:\n",
    "\n",
    "    # By year\n",
    "\n",
    "df.insert(loc=2, column='year', value=(df['order_date'].dt.year))"
   ]
  },
  {
   "cell_type": "code",
   "execution_count": 24,
   "id": "6be81dff",
   "metadata": {
    "execution": {
     "iopub.execute_input": "2023-04-17T16:06:10.346374Z",
     "iopub.status.busy": "2023-04-17T16:06:10.345885Z",
     "iopub.status.idle": "2023-04-17T16:06:10.675620Z",
     "shell.execute_reply": "2023-04-17T16:06:10.674264Z"
    },
    "papermill": {
     "duration": 0.350844,
     "end_time": "2023-04-17T16:06:10.679979",
     "exception": false,
     "start_time": "2023-04-17T16:06:10.329135",
     "status": "completed"
    },
    "tags": []
   },
   "outputs": [
    {
     "data": {
      "image/png": "[encoded data removed]",
      "text/plain": [
       "<Figure size 500x500 with 1 Axes>"
      ]
     },
     "metadata": {},
     "output_type": "display_data"
    }
   ],
   "source": [
    "    # Number of orders by year\n",
    "\n",
    "ax = df['year'].value_counts(ascending=True) \\\n",
    "    .plot(kind='bar', color='#c1121f', title='ORDERS / YEAR')\n",
    "ax.set_xlabel('Year of operation')\n",
    "ax.set_ylabel('Number of orders')\n",
    "plt.show()"
   ]
  },
  {
   "cell_type": "code",
   "execution_count": 25,
   "id": "a3eac2cc",
   "metadata": {
    "execution": {
     "iopub.execute_input": "2023-04-17T16:06:10.729778Z",
     "iopub.status.busy": "2023-04-17T16:06:10.728084Z",
     "iopub.status.idle": "2023-04-17T16:06:10.758088Z",
     "shell.execute_reply": "2023-04-17T16:06:10.756491Z"
    },
    "papermill": {
     "duration": 0.052289,
     "end_time": "2023-04-17T16:06:10.761111",
     "exception": false,
     "start_time": "2023-04-17T16:06:10.708822",
     "status": "completed"
    },
    "tags": []
   },
   "outputs": [
    {
     "data": {
      "text/html": [
       "<div>\n",
       "<style scoped>\n",
       "    .dataframe tbody tr th:only-of-type {\n",
       "        vertical-align: middle;\n",
       "    }\n",
       "\n",
       "    .dataframe tbody tr th {\n",
       "        vertical-align: top;\n",
       "    }\n",
       "\n",
       "    .dataframe thead th {\n",
       "        text-align: right;\n",
       "    }\n",
       "</style>\n",
       "<table border=\"1\" class=\"dataframe\">\n",
       "  <thead>\n",
       "    <tr style=\"text-align: right;\">\n",
       "      <th></th>\n",
       "      <th>total_sale</th>\n",
       "      <th>order_id</th>\n",
       "    </tr>\n",
       "    <tr>\n",
       "      <th>year</th>\n",
       "      <th></th>\n",
       "      <th></th>\n",
       "    </tr>\n",
       "  </thead>\n",
       "  <tbody>\n",
       "    <tr>\n",
       "      <th>2012</th>\n",
       "      <td>2259451.64</td>\n",
       "      <td>8998</td>\n",
       "    </tr>\n",
       "    <tr>\n",
       "      <th>2013</th>\n",
       "      <td>2677439.91</td>\n",
       "      <td>10962</td>\n",
       "    </tr>\n",
       "    <tr>\n",
       "      <th>2014</th>\n",
       "      <td>3405748.03</td>\n",
       "      <td>13799</td>\n",
       "    </tr>\n",
       "    <tr>\n",
       "      <th>2015</th>\n",
       "      <td>4299867.67</td>\n",
       "      <td>17531</td>\n",
       "    </tr>\n",
       "  </tbody>\n",
       "</table>\n",
       "</div>"
      ],
      "text/plain": [
       "      total_sale  order_id\n",
       "year                      \n",
       "2012  2259451.64      8998\n",
       "2013  2677439.91     10962\n",
       "2014  3405748.03     13799\n",
       "2015  4299867.67     17531"
      ]
     },
     "execution_count": 25,
     "metadata": {},
     "output_type": "execute_result"
    }
   ],
   "source": [
    "year = df.groupby('year').agg({'total_sale':'sum', 'order_id':'count'})\n",
    "year.head()"
   ]
  },
  {
   "cell_type": "code",
   "execution_count": 26,
   "id": "441e5e00",
   "metadata": {
    "execution": {
     "iopub.execute_input": "2023-04-17T16:06:10.794542Z",
     "iopub.status.busy": "2023-04-17T16:06:10.793690Z",
     "iopub.status.idle": "2023-04-17T16:06:11.020865Z",
     "shell.execute_reply": "2023-04-17T16:06:11.019447Z"
    },
    "papermill": {
     "duration": 0.248875,
     "end_time": "2023-04-17T16:06:11.024939",
     "exception": false,
     "start_time": "2023-04-17T16:06:10.776064",
     "status": "completed"
    },
    "tags": []
   },
   "outputs": [
    {
     "data": {
      "image/png": "[encoded data removed]",
      "text/plain": [
       "<Figure size 500x500 with 1 Axes>"
      ]
     },
     "metadata": {},
     "output_type": "display_data"
    }
   ],
   "source": [
    "    # Yearly sales\n",
    "\n",
    "ax = df.groupby('year').agg({'total_sale':'sum'})\\\n",
    "    .plot(kind='bar', color='#669bbc', title='TOTAL SALES / YEAR')\n",
    "ax.set_xlabel('Year of operation')\n",
    "ax.set_ylabel('Total sales')\n",
    "plt.show()"
   ]
  },
  {
   "cell_type": "markdown",
   "id": "a92d44ac",
   "metadata": {
    "papermill": {
     "duration": 0.016134,
     "end_time": "2023-04-17T16:06:11.063435",
     "exception": false,
     "start_time": "2023-04-17T16:06:11.047301",
     "status": "completed"
    },
    "tags": []
   },
   "source": [
    "Analizing this information, we can see the growth in sales from 2012 to 2015 having almost twice the ammount of orders in 2015 (17,531 orders) comparing with the starting ammount in 2012 (8,998 orders)"
   ]
  },
  {
   "cell_type": "code",
   "execution_count": 27,
   "id": "d5bda045",
   "metadata": {
    "execution": {
     "iopub.execute_input": "2023-04-17T16:06:11.095539Z",
     "iopub.status.busy": "2023-04-17T16:06:11.094258Z",
     "iopub.status.idle": "2023-04-17T16:06:11.126157Z",
     "shell.execute_reply": "2023-04-17T16:06:11.124752Z"
    },
    "papermill": {
     "duration": 0.050834,
     "end_time": "2023-04-17T16:06:11.129007",
     "exception": false,
     "start_time": "2023-04-17T16:06:11.078173",
     "status": "completed"
    },
    "tags": []
   },
   "outputs": [
    {
     "data": {
      "text/html": [
       "<div>\n",
       "<style scoped>\n",
       "    .dataframe tbody tr th:only-of-type {\n",
       "        vertical-align: middle;\n",
       "    }\n",
       "\n",
       "    .dataframe tbody tr th {\n",
       "        vertical-align: top;\n",
       "    }\n",
       "\n",
       "    .dataframe thead th {\n",
       "        text-align: right;\n",
       "    }\n",
       "</style>\n",
       "<table border=\"1\" class=\"dataframe\">\n",
       "  <thead>\n",
       "    <tr style=\"text-align: right;\">\n",
       "      <th></th>\n",
       "      <th>product_name</th>\n",
       "      <th>total_sale</th>\n",
       "      <th>sales%</th>\n",
       "    </tr>\n",
       "  </thead>\n",
       "  <tbody>\n",
       "    <tr>\n",
       "      <th>0</th>\n",
       "      <td>Apple Smart Phone, Full Size</td>\n",
       "      <td>86935.79</td>\n",
       "      <td>0.69</td>\n",
       "    </tr>\n",
       "    <tr>\n",
       "      <th>1</th>\n",
       "      <td>Cisco Smart Phone, Full Size</td>\n",
       "      <td>76441.53</td>\n",
       "      <td>0.60</td>\n",
       "    </tr>\n",
       "    <tr>\n",
       "      <th>2</th>\n",
       "      <td>Motorola Smart Phone, Full Size</td>\n",
       "      <td>73156.33</td>\n",
       "      <td>0.58</td>\n",
       "    </tr>\n",
       "    <tr>\n",
       "      <th>3</th>\n",
       "      <td>Nokia Smart Phone, Full Size</td>\n",
       "      <td>71904.56</td>\n",
       "      <td>0.57</td>\n",
       "    </tr>\n",
       "    <tr>\n",
       "      <th>4</th>\n",
       "      <td>Canon imageCLASS 2200 Advanced Copier</td>\n",
       "      <td>61599.83</td>\n",
       "      <td>0.49</td>\n",
       "    </tr>\n",
       "    <tr>\n",
       "      <th>5</th>\n",
       "      <td>Hon Executive Leather Armchair, Adjustable</td>\n",
       "      <td>58193.52</td>\n",
       "      <td>0.46</td>\n",
       "    </tr>\n",
       "    <tr>\n",
       "      <th>6</th>\n",
       "      <td>Office Star Executive Leather Armchair, Adjust...</td>\n",
       "      <td>50661.68</td>\n",
       "      <td>0.40</td>\n",
       "    </tr>\n",
       "    <tr>\n",
       "      <th>7</th>\n",
       "      <td>Harbour Creations Executive Leather Armchair, ...</td>\n",
       "      <td>50121.52</td>\n",
       "      <td>0.40</td>\n",
       "    </tr>\n",
       "    <tr>\n",
       "      <th>8</th>\n",
       "      <td>Samsung Smart Phone, Cordless</td>\n",
       "      <td>48653.46</td>\n",
       "      <td>0.38</td>\n",
       "    </tr>\n",
       "    <tr>\n",
       "      <th>9</th>\n",
       "      <td>Nokia Smart Phone, with Caller ID</td>\n",
       "      <td>47877.80</td>\n",
       "      <td>0.38</td>\n",
       "    </tr>\n",
       "  </tbody>\n",
       "</table>\n",
       "</div>"
      ],
      "text/plain": [
       "                                        product_name  total_sale  sales%\n",
       "0                       Apple Smart Phone, Full Size    86935.79    0.69\n",
       "1                       Cisco Smart Phone, Full Size    76441.53    0.60\n",
       "2                    Motorola Smart Phone, Full Size    73156.33    0.58\n",
       "3                       Nokia Smart Phone, Full Size    71904.56    0.57\n",
       "4              Canon imageCLASS 2200 Advanced Copier    61599.83    0.49\n",
       "5         Hon Executive Leather Armchair, Adjustable    58193.52    0.46\n",
       "6  Office Star Executive Leather Armchair, Adjust...    50661.68    0.40\n",
       "7  Harbour Creations Executive Leather Armchair, ...    50121.52    0.40\n",
       "8                      Samsung Smart Phone, Cordless    48653.46    0.38\n",
       "9                  Nokia Smart Phone, with Caller ID    47877.80    0.38"
      ]
     },
     "execution_count": 27,
     "metadata": {},
     "output_type": "execute_result"
    }
   ],
   "source": [
    "# Top 10 most sold products\n",
    "\n",
    "products = df.groupby('product_name').agg({'total_sale':'sum'}).sort_values(by='total_sale', ascending=False).reset_index()\n",
    "products['sales%'] = (products['total_sale'] / products['total_sale'].sum() * 100).round(2)\n",
    "products.head(10)"
   ]
  },
  {
   "cell_type": "code",
   "execution_count": 28,
   "id": "5dfbbb38",
   "metadata": {
    "execution": {
     "iopub.execute_input": "2023-04-17T16:06:11.160934Z",
     "iopub.status.busy": "2023-04-17T16:06:11.160554Z",
     "iopub.status.idle": "2023-04-17T16:06:11.176088Z",
     "shell.execute_reply": "2023-04-17T16:06:11.174429Z"
    },
    "papermill": {
     "duration": 0.034655,
     "end_time": "2023-04-17T16:06:11.178888",
     "exception": false,
     "start_time": "2023-04-17T16:06:11.144233",
     "status": "completed"
    },
    "tags": []
   },
   "outputs": [
    {
     "data": {
      "text/html": [
       "<div>\n",
       "<style scoped>\n",
       "    .dataframe tbody tr th:only-of-type {\n",
       "        vertical-align: middle;\n",
       "    }\n",
       "\n",
       "    .dataframe tbody tr th {\n",
       "        vertical-align: top;\n",
       "    }\n",
       "\n",
       "    .dataframe thead th {\n",
       "        text-align: right;\n",
       "    }\n",
       "</style>\n",
       "<table border=\"1\" class=\"dataframe\">\n",
       "  <thead>\n",
       "    <tr style=\"text-align: right;\">\n",
       "      <th></th>\n",
       "      <th>product_name</th>\n",
       "      <th>total_sale</th>\n",
       "      <th>sales%</th>\n",
       "    </tr>\n",
       "  </thead>\n",
       "  <tbody>\n",
       "    <tr>\n",
       "      <th>3778</th>\n",
       "      <td>Newell 308</td>\n",
       "      <td>8.40</td>\n",
       "      <td>0.0</td>\n",
       "    </tr>\n",
       "    <tr>\n",
       "      <th>3779</th>\n",
       "      <td>Stockwell Gold Paper Clips</td>\n",
       "      <td>8.10</td>\n",
       "      <td>0.0</td>\n",
       "    </tr>\n",
       "    <tr>\n",
       "      <th>3780</th>\n",
       "      <td>4009 Highlighters</td>\n",
       "      <td>8.04</td>\n",
       "      <td>0.0</td>\n",
       "    </tr>\n",
       "    <tr>\n",
       "      <th>3781</th>\n",
       "      <td>Xerox 1989</td>\n",
       "      <td>7.97</td>\n",
       "      <td>0.0</td>\n",
       "    </tr>\n",
       "    <tr>\n",
       "      <th>3782</th>\n",
       "      <td>Avery Hi-Liter Comfort Grip Fluorescent Highli...</td>\n",
       "      <td>7.80</td>\n",
       "      <td>0.0</td>\n",
       "    </tr>\n",
       "    <tr>\n",
       "      <th>3783</th>\n",
       "      <td>Avery Hi-Liter Pen Style Six-Color Fluorescent...</td>\n",
       "      <td>7.70</td>\n",
       "      <td>0.0</td>\n",
       "    </tr>\n",
       "    <tr>\n",
       "      <th>3784</th>\n",
       "      <td>Grip Seal Envelopes</td>\n",
       "      <td>7.07</td>\n",
       "      <td>0.0</td>\n",
       "    </tr>\n",
       "    <tr>\n",
       "      <th>3785</th>\n",
       "      <td>Xerox 20</td>\n",
       "      <td>6.48</td>\n",
       "      <td>0.0</td>\n",
       "    </tr>\n",
       "    <tr>\n",
       "      <th>3786</th>\n",
       "      <td>Avery 5</td>\n",
       "      <td>5.76</td>\n",
       "      <td>0.0</td>\n",
       "    </tr>\n",
       "    <tr>\n",
       "      <th>3787</th>\n",
       "      <td>Eureka Disposable Bags for Sanitaire Vibra Gro...</td>\n",
       "      <td>1.62</td>\n",
       "      <td>0.0</td>\n",
       "    </tr>\n",
       "  </tbody>\n",
       "</table>\n",
       "</div>"
      ],
      "text/plain": [
       "                                           product_name  total_sale  sales%\n",
       "3778                                         Newell 308        8.40     0.0\n",
       "3779                         Stockwell Gold Paper Clips        8.10     0.0\n",
       "3780                                  4009 Highlighters        8.04     0.0\n",
       "3781                                         Xerox 1989        7.97     0.0\n",
       "3782  Avery Hi-Liter Comfort Grip Fluorescent Highli...        7.80     0.0\n",
       "3783  Avery Hi-Liter Pen Style Six-Color Fluorescent...        7.70     0.0\n",
       "3784                                Grip Seal Envelopes        7.07     0.0\n",
       "3785                                           Xerox 20        6.48     0.0\n",
       "3786                                            Avery 5        5.76     0.0\n",
       "3787  Eureka Disposable Bags for Sanitaire Vibra Gro...        1.62     0.0"
      ]
     },
     "execution_count": 28,
     "metadata": {},
     "output_type": "execute_result"
    }
   ],
   "source": [
    "# Products with improvement oportunities\n",
    "\n",
    "products.tail(10)"
   ]
  },
  {
   "cell_type": "code",
   "execution_count": 29,
   "id": "4fcecb1c",
   "metadata": {
    "execution": {
     "iopub.execute_input": "2023-04-17T16:06:11.213234Z",
     "iopub.status.busy": "2023-04-17T16:06:11.211628Z",
     "iopub.status.idle": "2023-04-17T16:06:11.247635Z",
     "shell.execute_reply": "2023-04-17T16:06:11.245461Z"
    },
    "papermill": {
     "duration": 0.056657,
     "end_time": "2023-04-17T16:06:11.250632",
     "exception": false,
     "start_time": "2023-04-17T16:06:11.193975",
     "status": "completed"
    },
    "tags": []
   },
   "outputs": [
    {
     "data": {
      "text/html": [
       "<div>\n",
       "<style scoped>\n",
       "    .dataframe tbody tr th:only-of-type {\n",
       "        vertical-align: middle;\n",
       "    }\n",
       "\n",
       "    .dataframe tbody tr th {\n",
       "        vertical-align: top;\n",
       "    }\n",
       "\n",
       "    .dataframe thead th {\n",
       "        text-align: right;\n",
       "    }\n",
       "</style>\n",
       "<table border=\"1\" class=\"dataframe\">\n",
       "  <thead>\n",
       "    <tr style=\"text-align: right;\">\n",
       "      <th></th>\n",
       "      <th>category</th>\n",
       "      <th>total_sale</th>\n",
       "      <th>sales%</th>\n",
       "    </tr>\n",
       "  </thead>\n",
       "  <tbody>\n",
       "    <tr>\n",
       "      <th>0</th>\n",
       "      <td>Technology</td>\n",
       "      <td>4744558.76</td>\n",
       "      <td>37.53</td>\n",
       "    </tr>\n",
       "    <tr>\n",
       "      <th>1</th>\n",
       "      <td>Furniture</td>\n",
       "      <td>4110453.03</td>\n",
       "      <td>32.51</td>\n",
       "    </tr>\n",
       "    <tr>\n",
       "      <th>2</th>\n",
       "      <td>Office Supplies</td>\n",
       "      <td>3787495.46</td>\n",
       "      <td>29.96</td>\n",
       "    </tr>\n",
       "  </tbody>\n",
       "</table>\n",
       "</div>"
      ],
      "text/plain": [
       "          category  total_sale  sales%\n",
       "0       Technology  4744558.76   37.53\n",
       "1        Furniture  4110453.03   32.51\n",
       "2  Office Supplies  3787495.46   29.96"
      ]
     },
     "execution_count": 29,
     "metadata": {},
     "output_type": "execute_result"
    }
   ],
   "source": [
    "# Clasification by category\n",
    "\n",
    "category = df.groupby('category').agg({'total_sale':'sum'}).sort_values(by='total_sale', ascending=False).reset_index()\n",
    "category['sales%'] = (category['total_sale'] / category['total_sale'].sum() * 100).round(2)\n",
    "category.head()"
   ]
  },
  {
   "cell_type": "code",
   "execution_count": 30,
   "id": "b45829ba",
   "metadata": {
    "execution": {
     "iopub.execute_input": "2023-04-17T16:06:11.284059Z",
     "iopub.status.busy": "2023-04-17T16:06:11.283640Z",
     "iopub.status.idle": "2023-04-17T16:06:11.585647Z",
     "shell.execute_reply": "2023-04-17T16:06:11.584691Z"
    },
    "papermill": {
     "duration": 0.324648,
     "end_time": "2023-04-17T16:06:11.590633",
     "exception": false,
     "start_time": "2023-04-17T16:06:11.265985",
     "status": "completed"
    },
    "tags": []
   },
   "outputs": [
    {
     "data": {
      "image/png": "[encoded data removed]",
      "text/plain": [
       "<Figure size 700x700 with 1 Axes>"
      ]
     },
     "metadata": {},
     "output_type": "display_data"
    }
   ],
   "source": [
    "ax = category.plot(kind='pie', title='SALES% / CATEGORY',\n",
    "                   figsize=[7,7],\n",
    "                   x='category',\n",
    "                   y='sales%',\n",
    "                   autopct = \"%.2f%%\",\n",
    "                   colors=['#19376D','#576CBC','#A5D7E8'],\n",
    "                   shadow=True,\n",
    "                   explode=[0.03,0.03,0.03],\n",
    "                   labels=None)\n",
    "plt.legend(category['category'])\n",
    "plt.axis('off')\n",
    "plt.show()"
   ]
  },
  {
   "cell_type": "markdown",
   "id": "b5984bb7",
   "metadata": {
    "papermill": {
     "duration": 0.020107,
     "end_time": "2023-04-17T16:06:11.633610",
     "exception": false,
     "start_time": "2023-04-17T16:06:11.613503",
     "status": "completed"
    },
    "tags": []
   },
   "source": [
    "In this pie chart we can identify that all products categories are quite similar around 30%, although is obvious that the main products are in the technology category."
   ]
  },
  {
   "cell_type": "code",
   "execution_count": 31,
   "id": "642394ee",
   "metadata": {
    "execution": {
     "iopub.execute_input": "2023-04-17T16:06:11.673040Z",
     "iopub.status.busy": "2023-04-17T16:06:11.671624Z",
     "iopub.status.idle": "2023-04-17T16:06:11.693473Z",
     "shell.execute_reply": "2023-04-17T16:06:11.691775Z"
    },
    "papermill": {
     "duration": 0.045631,
     "end_time": "2023-04-17T16:06:11.696521",
     "exception": false,
     "start_time": "2023-04-17T16:06:11.650890",
     "status": "completed"
    },
    "tags": []
   },
   "outputs": [
    {
     "name": "stdout",
     "output_type": "stream",
     "text": [
      "               region  total_sale  sales%\n",
      "0      Western Europe  1731931.05   13.70\n",
      "1     Central America  1223100.79    9.67\n",
      "2             Oceania  1100185.69    8.70\n",
      "3   Southeastern Asia   884423.95    7.00\n",
      "4       Southern Asia   866573.05    6.85\n",
      "5        Eastern Asia   855059.62    6.76\n",
      "6          Western US   725457.93    5.74\n",
      "7          Eastern US   678781.36    5.37\n",
      "8     Northern Europe   636779.95    5.04\n",
      "9       South America   617223.64    4.88\n",
      "10    Southern Europe   608594.14    4.81\n",
      "11         Central US   501239.88    3.96\n",
      "12        Southern US   391721.90    3.10\n",
      "13          Caribbean   324280.89    2.57\n",
      "14       Western Asia   317106.95    2.51\n",
      "15     Eastern Europe   310033.44    2.45\n",
      "16       North Africa   233216.61    1.84\n",
      "17     Western Africa   173878.93    1.38\n",
      "18     Central Africa   143630.01    1.14\n",
      "19     Eastern Africa   127856.06    1.01\n",
      "20    Southern Africa   105191.76    0.83\n",
      "21             Canada    66928.17    0.53\n",
      "22       Central Asia    19311.48    0.15\n"
     ]
    }
   ],
   "source": [
    "# Sales by regions and countries\n",
    "\n",
    "region = df.groupby('region').agg({'total_sale':'sum'}).sort_values(by='total_sale', ascending=False).reset_index()\n",
    "region['sales%'] = (region['total_sale'] / region['total_sale'].sum() * 100).round(2)\n",
    "print(region)"
   ]
  },
  {
   "cell_type": "code",
   "execution_count": 32,
   "id": "994ae927",
   "metadata": {
    "execution": {
     "iopub.execute_input": "2023-04-17T16:06:11.734590Z",
     "iopub.status.busy": "2023-04-17T16:06:11.734146Z",
     "iopub.status.idle": "2023-04-17T16:06:11.759818Z",
     "shell.execute_reply": "2023-04-17T16:06:11.758203Z"
    },
    "papermill": {
     "duration": 0.047373,
     "end_time": "2023-04-17T16:06:11.762950",
     "exception": false,
     "start_time": "2023-04-17T16:06:11.715577",
     "status": "completed"
    },
    "tags": []
   },
   "outputs": [
    {
     "data": {
      "text/html": [
       "<div>\n",
       "<style scoped>\n",
       "    .dataframe tbody tr th:only-of-type {\n",
       "        vertical-align: middle;\n",
       "    }\n",
       "\n",
       "    .dataframe tbody tr th {\n",
       "        vertical-align: top;\n",
       "    }\n",
       "\n",
       "    .dataframe thead th {\n",
       "        text-align: right;\n",
       "    }\n",
       "</style>\n",
       "<table border=\"1\" class=\"dataframe\">\n",
       "  <thead>\n",
       "    <tr style=\"text-align: right;\">\n",
       "      <th></th>\n",
       "      <th>country</th>\n",
       "      <th>total_sale</th>\n",
       "      <th>sales%</th>\n",
       "    </tr>\n",
       "  </thead>\n",
       "  <tbody>\n",
       "    <tr>\n",
       "      <th>0</th>\n",
       "      <td>United States</td>\n",
       "      <td>2297201.07</td>\n",
       "      <td>18.17</td>\n",
       "    </tr>\n",
       "    <tr>\n",
       "      <th>1</th>\n",
       "      <td>Australia</td>\n",
       "      <td>925236.91</td>\n",
       "      <td>7.32</td>\n",
       "    </tr>\n",
       "    <tr>\n",
       "      <th>2</th>\n",
       "      <td>France</td>\n",
       "      <td>858931.65</td>\n",
       "      <td>6.79</td>\n",
       "    </tr>\n",
       "    <tr>\n",
       "      <th>3</th>\n",
       "      <td>China</td>\n",
       "      <td>700562.09</td>\n",
       "      <td>5.54</td>\n",
       "    </tr>\n",
       "    <tr>\n",
       "      <th>4</th>\n",
       "      <td>Germany</td>\n",
       "      <td>628136.55</td>\n",
       "      <td>4.97</td>\n",
       "    </tr>\n",
       "    <tr>\n",
       "      <th>5</th>\n",
       "      <td>Mexico</td>\n",
       "      <td>621552.81</td>\n",
       "      <td>4.92</td>\n",
       "    </tr>\n",
       "    <tr>\n",
       "      <th>6</th>\n",
       "      <td>India</td>\n",
       "      <td>589486.12</td>\n",
       "      <td>4.66</td>\n",
       "    </tr>\n",
       "    <tr>\n",
       "      <th>7</th>\n",
       "      <td>United Kingdom</td>\n",
       "      <td>528576.55</td>\n",
       "      <td>4.18</td>\n",
       "    </tr>\n",
       "    <tr>\n",
       "      <th>8</th>\n",
       "      <td>Indonesia</td>\n",
       "      <td>404887.67</td>\n",
       "      <td>3.20</td>\n",
       "    </tr>\n",
       "    <tr>\n",
       "      <th>9</th>\n",
       "      <td>Brazil</td>\n",
       "      <td>359924.85</td>\n",
       "      <td>2.85</td>\n",
       "    </tr>\n",
       "  </tbody>\n",
       "</table>\n",
       "</div>"
      ],
      "text/plain": [
       "          country  total_sale  sales%\n",
       "0   United States  2297201.07   18.17\n",
       "1       Australia   925236.91    7.32\n",
       "2          France   858931.65    6.79\n",
       "3           China   700562.09    5.54\n",
       "4         Germany   628136.55    4.97\n",
       "5          Mexico   621552.81    4.92\n",
       "6           India   589486.12    4.66\n",
       "7  United Kingdom   528576.55    4.18\n",
       "8       Indonesia   404887.67    3.20\n",
       "9          Brazil   359924.85    2.85"
      ]
     },
     "execution_count": 32,
     "metadata": {},
     "output_type": "execute_result"
    }
   ],
   "source": [
    "country = df.groupby('country').agg({'total_sale':'sum'}).sort_values(by='total_sale', ascending=False).reset_index()\n",
    "country['sales%'] = (country['total_sale'] / country['total_sale'].sum() * 100).round(2)\n",
    "country.head(10)"
   ]
  },
  {
   "cell_type": "code",
   "execution_count": 33,
   "id": "a01c6112",
   "metadata": {
    "execution": {
     "iopub.execute_input": "2023-04-17T16:06:11.802251Z",
     "iopub.status.busy": "2023-04-17T16:06:11.801836Z",
     "iopub.status.idle": "2023-04-17T16:06:11.836101Z",
     "shell.execute_reply": "2023-04-17T16:06:11.834623Z"
    },
    "papermill": {
     "duration": 0.057088,
     "end_time": "2023-04-17T16:06:11.838819",
     "exception": false,
     "start_time": "2023-04-17T16:06:11.781731",
     "status": "completed"
    },
    "tags": []
   },
   "outputs": [
    {
     "data": {
      "text/html": [
       "<div>\n",
       "<style scoped>\n",
       "    .dataframe tbody tr th:only-of-type {\n",
       "        vertical-align: middle;\n",
       "    }\n",
       "\n",
       "    .dataframe tbody tr th {\n",
       "        vertical-align: top;\n",
       "    }\n",
       "\n",
       "    .dataframe thead th {\n",
       "        text-align: right;\n",
       "    }\n",
       "</style>\n",
       "<table border=\"1\" class=\"dataframe\">\n",
       "  <thead>\n",
       "    <tr style=\"text-align: right;\">\n",
       "      <th></th>\n",
       "      <th>order_date</th>\n",
       "      <th>order_id</th>\n",
       "      <th>year</th>\n",
       "      <th>month</th>\n",
       "      <th>order_priority</th>\n",
       "      <th>shipping_date</th>\n",
       "      <th>order_processing_time</th>\n",
       "      <th>shipping_mode</th>\n",
       "      <th>shipping_cost</th>\n",
       "      <th>product_id</th>\n",
       "      <th>product_name</th>\n",
       "      <th>category</th>\n",
       "      <th>sub_category</th>\n",
       "      <th>price_unit</th>\n",
       "      <th>quantity</th>\n",
       "      <th>total_sale</th>\n",
       "      <th>discount</th>\n",
       "      <th>customer_id</th>\n",
       "      <th>customer_name</th>\n",
       "      <th>segment</th>\n",
       "      <th>city</th>\n",
       "      <th>state</th>\n",
       "      <th>country</th>\n",
       "      <th>region</th>\n",
       "      <th>market</th>\n",
       "    </tr>\n",
       "  </thead>\n",
       "  <tbody>\n",
       "    <tr>\n",
       "      <th>0</th>\n",
       "      <td>2014-11-11</td>\n",
       "      <td>CA-2014-AB10015140-41954</td>\n",
       "      <td>2014</td>\n",
       "      <td>11</td>\n",
       "      <td>High</td>\n",
       "      <td>2014-11-13</td>\n",
       "      <td>2</td>\n",
       "      <td>First Class</td>\n",
       "      <td>40.77</td>\n",
       "      <td>TEC-PH-5816</td>\n",
       "      <td>Samsung Convoy 3</td>\n",
       "      <td>Technology</td>\n",
       "      <td>Phones</td>\n",
       "      <td>110.99</td>\n",
       "      <td>2</td>\n",
       "      <td>221.98</td>\n",
       "      <td>0.0</td>\n",
       "      <td>AB-100151402</td>\n",
       "      <td>Aaron Bergman</td>\n",
       "      <td>Consumer</td>\n",
       "      <td>Oklahoma City</td>\n",
       "      <td>Oklahoma</td>\n",
       "      <td>United States</td>\n",
       "      <td>Central US</td>\n",
       "      <td>USCA</td>\n",
       "    </tr>\n",
       "    <tr>\n",
       "      <th>1</th>\n",
       "      <td>2014-02-05</td>\n",
       "      <td>IN-2014-JR162107-41675</td>\n",
       "      <td>2014</td>\n",
       "      <td>2</td>\n",
       "      <td>Critical</td>\n",
       "      <td>2014-02-07</td>\n",
       "      <td>2</td>\n",
       "      <td>Second Class</td>\n",
       "      <td>923.63</td>\n",
       "      <td>FUR-CH-5379</td>\n",
       "      <td>Novimex Executive Leather Armchair, Black</td>\n",
       "      <td>Furniture</td>\n",
       "      <td>Chairs</td>\n",
       "      <td>412.16</td>\n",
       "      <td>9</td>\n",
       "      <td>3709.40</td>\n",
       "      <td>0.1</td>\n",
       "      <td>JR-162107</td>\n",
       "      <td>Justin Ritter</td>\n",
       "      <td>Corporate</td>\n",
       "      <td>Wollongong</td>\n",
       "      <td>New South Wales</td>\n",
       "      <td>Australia</td>\n",
       "      <td>Oceania</td>\n",
       "      <td>Asia Pacific</td>\n",
       "    </tr>\n",
       "    <tr>\n",
       "      <th>2</th>\n",
       "      <td>2014-10-17</td>\n",
       "      <td>IN-2014-CR127307-41929</td>\n",
       "      <td>2014</td>\n",
       "      <td>10</td>\n",
       "      <td>Medium</td>\n",
       "      <td>2014-10-18</td>\n",
       "      <td>1</td>\n",
       "      <td>First Class</td>\n",
       "      <td>915.49</td>\n",
       "      <td>TEC-PH-5356</td>\n",
       "      <td>Nokia Smart Phone, with Caller ID</td>\n",
       "      <td>Technology</td>\n",
       "      <td>Phones</td>\n",
       "      <td>575.02</td>\n",
       "      <td>9</td>\n",
       "      <td>5175.17</td>\n",
       "      <td>0.1</td>\n",
       "      <td>CR-127307</td>\n",
       "      <td>Craig Reiter</td>\n",
       "      <td>Consumer</td>\n",
       "      <td>Brisbane</td>\n",
       "      <td>Queensland</td>\n",
       "      <td>Australia</td>\n",
       "      <td>Oceania</td>\n",
       "      <td>Asia Pacific</td>\n",
       "    </tr>\n",
       "    <tr>\n",
       "      <th>3</th>\n",
       "      <td>2014-01-28</td>\n",
       "      <td>ES-2014-KM1637548-41667</td>\n",
       "      <td>2014</td>\n",
       "      <td>1</td>\n",
       "      <td>Medium</td>\n",
       "      <td>2014-01-30</td>\n",
       "      <td>2</td>\n",
       "      <td>First Class</td>\n",
       "      <td>910.16</td>\n",
       "      <td>TEC-PH-5267</td>\n",
       "      <td>Motorola Smart Phone, Cordless</td>\n",
       "      <td>Technology</td>\n",
       "      <td>Phones</td>\n",
       "      <td>578.50</td>\n",
       "      <td>5</td>\n",
       "      <td>2892.51</td>\n",
       "      <td>0.1</td>\n",
       "      <td>KM-1637548</td>\n",
       "      <td>Katherine Murray</td>\n",
       "      <td>Home Office</td>\n",
       "      <td>Berlin</td>\n",
       "      <td>Berlin</td>\n",
       "      <td>Germany</td>\n",
       "      <td>Western Europe</td>\n",
       "      <td>Europe</td>\n",
       "    </tr>\n",
       "    <tr>\n",
       "      <th>4</th>\n",
       "      <td>2014-11-05</td>\n",
       "      <td>SG-2014-RH9495111-41948</td>\n",
       "      <td>2014</td>\n",
       "      <td>11</td>\n",
       "      <td>Critical</td>\n",
       "      <td>2014-11-06</td>\n",
       "      <td>1</td>\n",
       "      <td>Same Day</td>\n",
       "      <td>903.04</td>\n",
       "      <td>TEC-CO-6011</td>\n",
       "      <td>Sharp Wireless Fax, High-Speed</td>\n",
       "      <td>Technology</td>\n",
       "      <td>Copiers</td>\n",
       "      <td>354.12</td>\n",
       "      <td>8</td>\n",
       "      <td>2832.96</td>\n",
       "      <td>0.0</td>\n",
       "      <td>RH-9495111</td>\n",
       "      <td>Rick Hansen</td>\n",
       "      <td>Consumer</td>\n",
       "      <td>Dakar</td>\n",
       "      <td>Dakar</td>\n",
       "      <td>Senegal</td>\n",
       "      <td>Western Africa</td>\n",
       "      <td>Africa</td>\n",
       "    </tr>\n",
       "  </tbody>\n",
       "</table>\n",
       "</div>"
      ],
      "text/plain": [
       "  order_date                  order_id  year  month order_priority  \\\n",
       "0 2014-11-11  CA-2014-AB10015140-41954  2014     11           High   \n",
       "1 2014-02-05    IN-2014-JR162107-41675  2014      2       Critical   \n",
       "2 2014-10-17    IN-2014-CR127307-41929  2014     10         Medium   \n",
       "3 2014-01-28   ES-2014-KM1637548-41667  2014      1         Medium   \n",
       "4 2014-11-05   SG-2014-RH9495111-41948  2014     11       Critical   \n",
       "\n",
       "  shipping_date  order_processing_time shipping_mode  shipping_cost  \\\n",
       "0    2014-11-13                      2   First Class          40.77   \n",
       "1    2014-02-07                      2  Second Class         923.63   \n",
       "2    2014-10-18                      1   First Class         915.49   \n",
       "3    2014-01-30                      2   First Class         910.16   \n",
       "4    2014-11-06                      1      Same Day         903.04   \n",
       "\n",
       "    product_id                               product_name    category  \\\n",
       "0  TEC-PH-5816                           Samsung Convoy 3  Technology   \n",
       "1  FUR-CH-5379  Novimex Executive Leather Armchair, Black   Furniture   \n",
       "2  TEC-PH-5356          Nokia Smart Phone, with Caller ID  Technology   \n",
       "3  TEC-PH-5267             Motorola Smart Phone, Cordless  Technology   \n",
       "4  TEC-CO-6011             Sharp Wireless Fax, High-Speed  Technology   \n",
       "\n",
       "  sub_category  price_unit  quantity  total_sale  discount   customer_id  \\\n",
       "0       Phones      110.99         2      221.98       0.0  AB-100151402   \n",
       "1       Chairs      412.16         9     3709.40       0.1     JR-162107   \n",
       "2       Phones      575.02         9     5175.17       0.1     CR-127307   \n",
       "3       Phones      578.50         5     2892.51       0.1    KM-1637548   \n",
       "4      Copiers      354.12         8     2832.96       0.0    RH-9495111   \n",
       "\n",
       "      customer_name      segment           city            state  \\\n",
       "0     Aaron Bergman     Consumer  Oklahoma City         Oklahoma   \n",
       "1     Justin Ritter    Corporate     Wollongong  New South Wales   \n",
       "2      Craig Reiter     Consumer       Brisbane       Queensland   \n",
       "3  Katherine Murray  Home Office         Berlin           Berlin   \n",
       "4       Rick Hansen     Consumer          Dakar            Dakar   \n",
       "\n",
       "         country          region        market  \n",
       "0  United States      Central US          USCA  \n",
       "1      Australia         Oceania  Asia Pacific  \n",
       "2      Australia         Oceania  Asia Pacific  \n",
       "3        Germany  Western Europe        Europe  \n",
       "4        Senegal  Western Africa        Africa  "
      ]
     },
     "execution_count": 33,
     "metadata": {},
     "output_type": "execute_result"
    }
   ],
   "source": [
    "# Identifying trends\n",
    "\n",
    "df.insert(loc=3, column='month', value=(df['order_date'].dt.month))\n",
    "df.head()"
   ]
  },
  {
   "cell_type": "code",
   "execution_count": 34,
   "id": "0820b927",
   "metadata": {
    "execution": {
     "iopub.execute_input": "2023-04-17T16:06:11.874323Z",
     "iopub.status.busy": "2023-04-17T16:06:11.873957Z",
     "iopub.status.idle": "2023-04-17T16:06:11.903948Z",
     "shell.execute_reply": "2023-04-17T16:06:11.902449Z"
    },
    "papermill": {
     "duration": 0.050953,
     "end_time": "2023-04-17T16:06:11.907188",
     "exception": false,
     "start_time": "2023-04-17T16:06:11.856235",
     "status": "completed"
    },
    "tags": []
   },
   "outputs": [
    {
     "data": {
      "text/html": [
       "<div>\n",
       "<style scoped>\n",
       "    .dataframe tbody tr th:only-of-type {\n",
       "        vertical-align: middle;\n",
       "    }\n",
       "\n",
       "    .dataframe tbody tr th {\n",
       "        vertical-align: top;\n",
       "    }\n",
       "\n",
       "    .dataframe thead th {\n",
       "        text-align: right;\n",
       "    }\n",
       "</style>\n",
       "<table border=\"1\" class=\"dataframe\">\n",
       "  <thead>\n",
       "    <tr style=\"text-align: right;\">\n",
       "      <th></th>\n",
       "      <th>year</th>\n",
       "      <th>month</th>\n",
       "      <th>total_sale</th>\n",
       "      <th>sales%</th>\n",
       "    </tr>\n",
       "  </thead>\n",
       "  <tbody>\n",
       "    <tr>\n",
       "      <th>0</th>\n",
       "      <td>2012</td>\n",
       "      <td>1</td>\n",
       "      <td>98898.53</td>\n",
       "      <td>0.78</td>\n",
       "    </tr>\n",
       "    <tr>\n",
       "      <th>1</th>\n",
       "      <td>2012</td>\n",
       "      <td>2</td>\n",
       "      <td>103718.01</td>\n",
       "      <td>0.82</td>\n",
       "    </tr>\n",
       "    <tr>\n",
       "      <th>2</th>\n",
       "      <td>2012</td>\n",
       "      <td>3</td>\n",
       "      <td>135746.52</td>\n",
       "      <td>1.07</td>\n",
       "    </tr>\n",
       "    <tr>\n",
       "      <th>3</th>\n",
       "      <td>2012</td>\n",
       "      <td>4</td>\n",
       "      <td>114332.99</td>\n",
       "      <td>0.90</td>\n",
       "    </tr>\n",
       "    <tr>\n",
       "      <th>4</th>\n",
       "      <td>2012</td>\n",
       "      <td>5</td>\n",
       "      <td>158228.35</td>\n",
       "      <td>1.25</td>\n",
       "    </tr>\n",
       "  </tbody>\n",
       "</table>\n",
       "</div>"
      ],
      "text/plain": [
       "   year  month  total_sale  sales%\n",
       "0  2012      1    98898.53    0.78\n",
       "1  2012      2   103718.01    0.82\n",
       "2  2012      3   135746.52    1.07\n",
       "3  2012      4   114332.99    0.90\n",
       "4  2012      5   158228.35    1.25"
      ]
     },
     "execution_count": 34,
     "metadata": {},
     "output_type": "execute_result"
    }
   ],
   "source": [
    "month = df.groupby(['year','month']).agg({'total_sale':'sum'}).sort_values(by=['year','month'], ascending=True).reset_index()\n",
    "month['sales%'] = (month['total_sale'] / month['total_sale'].sum() * 100).round(2)\n",
    "month.head()"
   ]
  },
  {
   "cell_type": "code",
   "execution_count": 35,
   "id": "f90c1e0d",
   "metadata": {
    "execution": {
     "iopub.execute_input": "2023-04-17T16:06:11.948421Z",
     "iopub.status.busy": "2023-04-17T16:06:11.947591Z",
     "iopub.status.idle": "2023-04-17T16:06:11.963865Z",
     "shell.execute_reply": "2023-04-17T16:06:11.962489Z"
    },
    "papermill": {
     "duration": 0.041542,
     "end_time": "2023-04-17T16:06:11.967161",
     "exception": false,
     "start_time": "2023-04-17T16:06:11.925619",
     "status": "completed"
    },
    "tags": []
   },
   "outputs": [
    {
     "data": {
      "text/html": [
       "<div>\n",
       "<style scoped>\n",
       "    .dataframe tbody tr th:only-of-type {\n",
       "        vertical-align: middle;\n",
       "    }\n",
       "\n",
       "    .dataframe tbody tr th {\n",
       "        vertical-align: top;\n",
       "    }\n",
       "\n",
       "    .dataframe thead th {\n",
       "        text-align: right;\n",
       "    }\n",
       "</style>\n",
       "<table border=\"1\" class=\"dataframe\">\n",
       "  <thead>\n",
       "    <tr style=\"text-align: right;\">\n",
       "      <th></th>\n",
       "      <th>year</th>\n",
       "      <th>month</th>\n",
       "      <th>total_sale</th>\n",
       "      <th>sales%</th>\n",
       "    </tr>\n",
       "  </thead>\n",
       "  <tbody>\n",
       "    <tr>\n",
       "      <th>0</th>\n",
       "      <td>2012</td>\n",
       "      <td>Jan</td>\n",
       "      <td>98898.53</td>\n",
       "      <td>0.78</td>\n",
       "    </tr>\n",
       "    <tr>\n",
       "      <th>1</th>\n",
       "      <td>2012</td>\n",
       "      <td>Feb</td>\n",
       "      <td>103718.01</td>\n",
       "      <td>0.82</td>\n",
       "    </tr>\n",
       "    <tr>\n",
       "      <th>2</th>\n",
       "      <td>2012</td>\n",
       "      <td>Mar</td>\n",
       "      <td>135746.52</td>\n",
       "      <td>1.07</td>\n",
       "    </tr>\n",
       "    <tr>\n",
       "      <th>3</th>\n",
       "      <td>2012</td>\n",
       "      <td>Apr</td>\n",
       "      <td>114332.99</td>\n",
       "      <td>0.90</td>\n",
       "    </tr>\n",
       "    <tr>\n",
       "      <th>4</th>\n",
       "      <td>2012</td>\n",
       "      <td>May</td>\n",
       "      <td>158228.35</td>\n",
       "      <td>1.25</td>\n",
       "    </tr>\n",
       "  </tbody>\n",
       "</table>\n",
       "</div>"
      ],
      "text/plain": [
       "   year month  total_sale  sales%\n",
       "0  2012   Jan    98898.53    0.78\n",
       "1  2012   Feb   103718.01    0.82\n",
       "2  2012   Mar   135746.52    1.07\n",
       "3  2012   Apr   114332.99    0.90\n",
       "4  2012   May   158228.35    1.25"
      ]
     },
     "execution_count": 35,
     "metadata": {},
     "output_type": "execute_result"
    }
   ],
   "source": [
    "replace_month = {1 : 'Jan',\n",
    "                 2 : 'Feb',\n",
    "                 3 : 'Mar',\n",
    "                 4 : 'Apr',\n",
    "                 5 : 'May',\n",
    "                 6 : 'Jun',\n",
    "                 7 : 'Jul',\n",
    "                 8 : 'Aug',\n",
    "                 9 : 'Sep',\n",
    "                 10 : 'Oct',\n",
    "                 11 : 'Nov',\n",
    "                 12 : 'Dec'}\n",
    "\n",
    "month['month'] = month['month'].replace(replace_month)\n",
    "month.head()"
   ]
  },
  {
   "cell_type": "code",
   "execution_count": 36,
   "id": "ac21102b",
   "metadata": {
    "execution": {
     "iopub.execute_input": "2023-04-17T16:06:12.007154Z",
     "iopub.status.busy": "2023-04-17T16:06:12.006723Z",
     "iopub.status.idle": "2023-04-17T16:06:12.024206Z",
     "shell.execute_reply": "2023-04-17T16:06:12.022788Z"
    },
    "papermill": {
     "duration": 0.040667,
     "end_time": "2023-04-17T16:06:12.027100",
     "exception": false,
     "start_time": "2023-04-17T16:06:11.986433",
     "status": "completed"
    },
    "tags": []
   },
   "outputs": [
    {
     "data": {
      "text/html": [
       "<div>\n",
       "<style scoped>\n",
       "    .dataframe tbody tr th:only-of-type {\n",
       "        vertical-align: middle;\n",
       "    }\n",
       "\n",
       "    .dataframe tbody tr th {\n",
       "        vertical-align: top;\n",
       "    }\n",
       "\n",
       "    .dataframe thead th {\n",
       "        text-align: right;\n",
       "    }\n",
       "</style>\n",
       "<table border=\"1\" class=\"dataframe\">\n",
       "  <thead>\n",
       "    <tr style=\"text-align: right;\">\n",
       "      <th></th>\n",
       "      <th>year</th>\n",
       "      <th>month</th>\n",
       "      <th>total_sale</th>\n",
       "      <th>sales%</th>\n",
       "      <th>period</th>\n",
       "    </tr>\n",
       "  </thead>\n",
       "  <tbody>\n",
       "    <tr>\n",
       "      <th>0</th>\n",
       "      <td>2012</td>\n",
       "      <td>Jan</td>\n",
       "      <td>98898.53</td>\n",
       "      <td>0.78</td>\n",
       "      <td>Jan-2012</td>\n",
       "    </tr>\n",
       "    <tr>\n",
       "      <th>1</th>\n",
       "      <td>2012</td>\n",
       "      <td>Feb</td>\n",
       "      <td>103718.01</td>\n",
       "      <td>0.82</td>\n",
       "      <td>Feb-2012</td>\n",
       "    </tr>\n",
       "    <tr>\n",
       "      <th>2</th>\n",
       "      <td>2012</td>\n",
       "      <td>Mar</td>\n",
       "      <td>135746.52</td>\n",
       "      <td>1.07</td>\n",
       "      <td>Mar-2012</td>\n",
       "    </tr>\n",
       "    <tr>\n",
       "      <th>3</th>\n",
       "      <td>2012</td>\n",
       "      <td>Apr</td>\n",
       "      <td>114332.99</td>\n",
       "      <td>0.90</td>\n",
       "      <td>Apr-2012</td>\n",
       "    </tr>\n",
       "    <tr>\n",
       "      <th>4</th>\n",
       "      <td>2012</td>\n",
       "      <td>May</td>\n",
       "      <td>158228.35</td>\n",
       "      <td>1.25</td>\n",
       "      <td>May-2012</td>\n",
       "    </tr>\n",
       "  </tbody>\n",
       "</table>\n",
       "</div>"
      ],
      "text/plain": [
       "   year month  total_sale  sales%    period\n",
       "0  2012   Jan    98898.53    0.78  Jan-2012\n",
       "1  2012   Feb   103718.01    0.82  Feb-2012\n",
       "2  2012   Mar   135746.52    1.07  Mar-2012\n",
       "3  2012   Apr   114332.99    0.90  Apr-2012\n",
       "4  2012   May   158228.35    1.25  May-2012"
      ]
     },
     "execution_count": 36,
     "metadata": {},
     "output_type": "execute_result"
    }
   ],
   "source": [
    "month['period'] = month['month'].astype(str).str.cat(month['year'].astype(str), sep='-')\n",
    "month.head()"
   ]
  },
  {
   "cell_type": "code",
   "execution_count": 37,
   "id": "eaf56b96",
   "metadata": {
    "execution": {
     "iopub.execute_input": "2023-04-17T16:06:12.064309Z",
     "iopub.status.busy": "2023-04-17T16:06:12.063119Z",
     "iopub.status.idle": "2023-04-17T16:06:12.462944Z",
     "shell.execute_reply": "2023-04-17T16:06:12.461491Z"
    },
    "papermill": {
     "duration": 0.420921,
     "end_time": "2023-04-17T16:06:12.465430",
     "exception": false,
     "start_time": "2023-04-17T16:06:12.044509",
     "status": "completed"
    },
    "tags": []
   },
   "outputs": [
    {
     "data": {
      "image/png": "[encoded data removed]",
      "text/plain": [
       "<Figure size 1500x500 with 1 Axes>"
      ]
     },
     "metadata": {},
     "output_type": "display_data"
    }
   ],
   "source": [
    "plt.figure(figsize=(15,5))\n",
    "ax = sns.lineplot(data=month,\n",
    "            x='period',\n",
    "            y='total_sale',\n",
    "            color='b',\n",
    "            marker='o')\n",
    "tick_positions = ['Jan-2012', 'Jul-2012', 'Jan-2013', 'Jul-2013', 'Jan-2014', 'Jul-2014', 'Jan-2015', 'Jul-2015', 'Dec-2015']\n",
    "tick_labels = ['Jan-2012', 'Jul-2012', 'Jan-2013', 'Jul-2013', 'Jan-2014', 'Jul-2014', 'Jan-2015', 'Jul-2015', 'Dec-2015']\n",
    "ax.set_xticks(tick_positions)\n",
    "ax.set_xticklabels(tick_labels)\n",
    "plt.title('SALES TREND')\n",
    "plt.xlabel('Period')\n",
    "plt.ylabel('Sales $')\n",
    "plt.xlim(xmin=month['period'].iloc[0], xmax=month['period'].iloc[-1])\n",
    "plt.xticks(rotation=90)\n",
    "plt.show()"
   ]
  },
  {
   "cell_type": "markdown",
   "id": "31bbbe69",
   "metadata": {
    "papermill": {
     "duration": 0.017958,
     "end_time": "2023-04-17T16:06:12.502907",
     "exception": false,
     "start_time": "2023-04-17T16:06:12.484949",
     "status": "completed"
    },
    "tags": []
   },
   "source": [
    "In this line chart, we can identify trends in shopping behavior of the custommers: \n",
    "- Sales start low from January, and February is the lowest month for sales every year.\n",
    "- Starting in April, sales start to rise until June, and then slow down in July.\n",
    "- From there, Sales start rising up again until December which is the best month."
   ]
  }
 ],
 "metadata": {
  "kernelspec": {
   "display_name": "Python 3",
   "language": "python",
   "name": "python3"
  },
  "language_info": {
   "codemirror_mode": {
    "name": "ipython",
    "version": 3
   },
   "file_extension": ".py",
   "mimetype": "text/x-python",
   "name": "python",
   "nbconvert_exporter": "python",
   "pygments_lexer": "ipython3",
   "version": "3.7.12"
  },
  "papermill": {
   "default_parameters": {},
   "duration": 17.783568,
   "end_time": "2023-04-17T16:06:13.449059",
   "environment_variables": {},
   "exception": null,
   "input_path": "__notebook__.ipynb",
   "output_path": "__notebook__.ipynb",
   "parameters": {},
   "start_time": "2023-04-17T16:05:55.665491",
   "version": "2.4.0"
  }
 },
 "nbformat": 4,
 "nbformat_minor": 5
}
